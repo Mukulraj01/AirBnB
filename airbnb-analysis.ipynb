{
 "cells": [
  {
   "cell_type": "markdown",
   "metadata": {},
   "source": [
    "# AirBnB Data Analysis for Seattle\n",
    "\n",
    "This notebook holds analysis of ***AirBnB Data of Seattle city for the year 2016-17***.<br> \n",
    "Analysis follows **`CRISP-DM`** process and is a part of *Udacity's Data Scientist Nanodegree program*<br>\n",
    "\n",
    "This data is provided by *AirBnB* on **kaggle**, you can download the data from [here](https://www.kaggle.com/airbnb/seattle/data)<br>\n",
    "\n",
    "`Steps in CRISP-DM process:`\n",
    "- Business Understanding\n",
    "- Data Understanding \n",
    "- Data Preparation \n",
    "\n",
    "\n",
    "This notebook contains all of the steps mentioned above. "
   ]
  },
  {
   "cell_type": "markdown",
   "metadata": {},
   "source": [
    "## **Business Understanding**\n",
    "\n",
    "Based on the data overview, here are some points and questions related to business or real-world applications of how the data could be used:\n",
    "1. **Prices Overview**\n",
    "    - What is the minimum, maximum and average price of listing(property) across the city?\n",
    "    - What is the average price for each listing given in dataset?\n",
    "    - Average price for each accommodation type (number of persons that can be accommodated : accommodates)\n",
    "    - What is the average price per month?\n",
    "    - Prices depending on Neighbourhood, what is the impact of meighbourhood on prices?\n",
    "2. **Listings count Overview**\n",
    "    - Number of listings based on price\n",
    "    - Number of listings based on number of reviews\n",
    "    - Number of listings registered per month\n",
    "    - Number of listings available per month\n",
    "    - Number of listings which are not available per month\n",
    "    - Number of listings based on accommodates type\n",
    "3. **Find busiest time of the year for this city**\n",
    "    - Get insights from listings count overview\n",
    "4. **Occupancy rate and Number of reviews over time**\n",
    "    - What is the occupancy rate over time(all year)\n",
    "    - Number of reviews added over time\n",
    "5. **Price Modelling**\n",
    "    - Find out the features that have more influence on price. (basically find out important features)"
   ]
  },
  {
   "cell_type": "markdown",
   "metadata": {},
   "source": [
    "#### ***Import all the required libraries***"
   ]
  },
  {
   "cell_type": "code",
   "execution_count": 3,
   "metadata": {},
   "outputs": [],
   "source": [
    "#libraries and packages required for data analysis\n",
    "import numpy as np\n",
    "import pandas as pd\n",
    "pd.set_option('display.max_rows', 50)    \n",
    "pd.set_option('display.max_columns', 500)\n",
    "pd.set_option('display.width', 1000)\n",
    "\n",
    "import matplotlib.pyplot as plt\n",
    "import seaborn as sns\n",
    "\n",
    "\n",
    "#libraries and packages need for data modeling\n",
    "from sklearn.model_selection import train_test_split\n",
    "from sklearn.ensemble import RandomForestRegressor\n",
    "from sklearn.metrics import r2_score, mean_squared_error"
   ]
  },
  {
   "cell_type": "markdown",
   "metadata": {},
   "source": [
    "## **Data Understanding**\n",
    "\n",
    "Following code cells are used to understand the data, extract important features and to clean the dataset<br>"
   ]
  },
  {
   "cell_type": "markdown",
   "metadata": {},
   "source": [
    "#### ***Overview of listing.csv***"
   ]
  },
  {
   "cell_type": "code",
   "execution_count": 7,
   "metadata": {},
   "outputs": [
    {
     "name": "stdout",
     "output_type": "stream",
     "text": [
      "Shape of listing csv is (3818, 92)\n"
     ]
    }
   ],
   "source": [
    "#read listing.csv, and its shape\n",
    "listing_seattle = pd.read_csv('listings_seattle.csv')\n",
    "print('Shape of listing csv is',listing_seattle.shape)"
   ]
  },
  {
   "cell_type": "code",
   "execution_count": 8,
   "metadata": {},
   "outputs": [
    {
     "data": {
      "text/html": [
       "<div>\n",
       "<style scoped>\n",
       "    .dataframe tbody tr th:only-of-type {\n",
       "        vertical-align: middle;\n",
       "    }\n",
       "\n",
       "    .dataframe tbody tr th {\n",
       "        vertical-align: top;\n",
       "    }\n",
       "\n",
       "    .dataframe thead th {\n",
       "        text-align: right;\n",
       "    }\n",
       "</style>\n",
       "<table border=\"1\" class=\"dataframe\">\n",
       "  <thead>\n",
       "    <tr style=\"text-align: right;\">\n",
       "      <th></th>\n",
       "      <th>id</th>\n",
       "      <th>listing_url</th>\n",
       "      <th>scrape_id</th>\n",
       "      <th>last_scraped</th>\n",
       "      <th>name</th>\n",
       "      <th>summary</th>\n",
       "      <th>space</th>\n",
       "      <th>description</th>\n",
       "      <th>experiences_offered</th>\n",
       "      <th>neighborhood_overview</th>\n",
       "      <th>notes</th>\n",
       "      <th>transit</th>\n",
       "      <th>thumbnail_url</th>\n",
       "      <th>medium_url</th>\n",
       "      <th>picture_url</th>\n",
       "      <th>xl_picture_url</th>\n",
       "      <th>host_id</th>\n",
       "      <th>host_url</th>\n",
       "      <th>host_name</th>\n",
       "      <th>host_since</th>\n",
       "      <th>host_location</th>\n",
       "      <th>host_about</th>\n",
       "      <th>host_response_time</th>\n",
       "      <th>host_response_rate</th>\n",
       "      <th>host_acceptance_rate</th>\n",
       "      <th>host_is_superhost</th>\n",
       "      <th>host_thumbnail_url</th>\n",
       "      <th>host_picture_url</th>\n",
       "      <th>host_neighbourhood</th>\n",
       "      <th>host_listings_count</th>\n",
       "      <th>host_total_listings_count</th>\n",
       "      <th>host_verifications</th>\n",
       "      <th>host_has_profile_pic</th>\n",
       "      <th>host_identity_verified</th>\n",
       "      <th>street</th>\n",
       "      <th>neighbourhood</th>\n",
       "      <th>neighbourhood_cleansed</th>\n",
       "      <th>neighbourhood_group_cleansed</th>\n",
       "      <th>city</th>\n",
       "      <th>state</th>\n",
       "      <th>zipcode</th>\n",
       "      <th>market</th>\n",
       "      <th>smart_location</th>\n",
       "      <th>country_code</th>\n",
       "      <th>country</th>\n",
       "      <th>latitude</th>\n",
       "      <th>longitude</th>\n",
       "      <th>is_location_exact</th>\n",
       "      <th>property_type</th>\n",
       "      <th>room_type</th>\n",
       "      <th>accommodates</th>\n",
       "      <th>bathrooms</th>\n",
       "      <th>bedrooms</th>\n",
       "      <th>beds</th>\n",
       "      <th>bed_type</th>\n",
       "      <th>amenities</th>\n",
       "      <th>square_feet</th>\n",
       "      <th>price</th>\n",
       "      <th>weekly_price</th>\n",
       "      <th>monthly_price</th>\n",
       "      <th>security_deposit</th>\n",
       "      <th>cleaning_fee</th>\n",
       "      <th>guests_included</th>\n",
       "      <th>extra_people</th>\n",
       "      <th>minimum_nights</th>\n",
       "      <th>maximum_nights</th>\n",
       "      <th>calendar_updated</th>\n",
       "      <th>has_availability</th>\n",
       "      <th>availability_30</th>\n",
       "      <th>availability_60</th>\n",
       "      <th>availability_90</th>\n",
       "      <th>availability_365</th>\n",
       "      <th>calendar_last_scraped</th>\n",
       "      <th>number_of_reviews</th>\n",
       "      <th>first_review</th>\n",
       "      <th>last_review</th>\n",
       "      <th>review_scores_rating</th>\n",
       "      <th>review_scores_accuracy</th>\n",
       "      <th>review_scores_cleanliness</th>\n",
       "      <th>review_scores_checkin</th>\n",
       "      <th>review_scores_communication</th>\n",
       "      <th>review_scores_location</th>\n",
       "      <th>review_scores_value</th>\n",
       "      <th>requires_license</th>\n",
       "      <th>license</th>\n",
       "      <th>jurisdiction_names</th>\n",
       "      <th>instant_bookable</th>\n",
       "      <th>cancellation_policy</th>\n",
       "      <th>require_guest_profile_picture</th>\n",
       "      <th>require_guest_phone_verification</th>\n",
       "      <th>calculated_host_listings_count</th>\n",
       "      <th>reviews_per_month</th>\n",
       "    </tr>\n",
       "  </thead>\n",
       "  <tbody>\n",
       "    <tr>\n",
       "      <th>0</th>\n",
       "      <td>241032</td>\n",
       "      <td>https://www.airbnb.com/rooms/241032</td>\n",
       "      <td>20160104002432</td>\n",
       "      <td>2016-01-04</td>\n",
       "      <td>Stylish Queen Anne Apartment</td>\n",
       "      <td>NaN</td>\n",
       "      <td>Make your self at home in this charming one-be...</td>\n",
       "      <td>Make your self at home in this charming one-be...</td>\n",
       "      <td>none</td>\n",
       "      <td>NaN</td>\n",
       "      <td>NaN</td>\n",
       "      <td>NaN</td>\n",
       "      <td>NaN</td>\n",
       "      <td>NaN</td>\n",
       "      <td>https://a1.muscache.com/ac/pictures/67560560/c...</td>\n",
       "      <td>NaN</td>\n",
       "      <td>956883</td>\n",
       "      <td>https://www.airbnb.com/users/show/956883</td>\n",
       "      <td>Maija</td>\n",
       "      <td>2011-08-11</td>\n",
       "      <td>Seattle, Washington, United States</td>\n",
       "      <td>I am an artist, interior designer, and run a s...</td>\n",
       "      <td>within a few hours</td>\n",
       "      <td>96%</td>\n",
       "      <td>100%</td>\n",
       "      <td>f</td>\n",
       "      <td>https://a0.muscache.com/ac/users/956883/profil...</td>\n",
       "      <td>https://a0.muscache.com/ac/users/956883/profil...</td>\n",
       "      <td>Queen Anne</td>\n",
       "      <td>3.0</td>\n",
       "      <td>3.0</td>\n",
       "      <td>['email', 'phone', 'reviews', 'kba']</td>\n",
       "      <td>t</td>\n",
       "      <td>t</td>\n",
       "      <td>Gilman Dr W, Seattle, WA 98119, United States</td>\n",
       "      <td>Queen Anne</td>\n",
       "      <td>West Queen Anne</td>\n",
       "      <td>Queen Anne</td>\n",
       "      <td>Seattle</td>\n",
       "      <td>WA</td>\n",
       "      <td>98119</td>\n",
       "      <td>Seattle</td>\n",
       "      <td>Seattle, WA</td>\n",
       "      <td>US</td>\n",
       "      <td>United States</td>\n",
       "      <td>47.636289</td>\n",
       "      <td>-122.371025</td>\n",
       "      <td>t</td>\n",
       "      <td>Apartment</td>\n",
       "      <td>Entire home/apt</td>\n",
       "      <td>4</td>\n",
       "      <td>1.0</td>\n",
       "      <td>1.0</td>\n",
       "      <td>1.0</td>\n",
       "      <td>Real Bed</td>\n",
       "      <td>{TV,\"Cable TV\",Internet,\"Wireless Internet\",\"A...</td>\n",
       "      <td>NaN</td>\n",
       "      <td>$85.00</td>\n",
       "      <td>NaN</td>\n",
       "      <td>NaN</td>\n",
       "      <td>NaN</td>\n",
       "      <td>NaN</td>\n",
       "      <td>2</td>\n",
       "      <td>$5.00</td>\n",
       "      <td>1</td>\n",
       "      <td>365</td>\n",
       "      <td>4 weeks ago</td>\n",
       "      <td>t</td>\n",
       "      <td>14</td>\n",
       "      <td>41</td>\n",
       "      <td>71</td>\n",
       "      <td>346</td>\n",
       "      <td>2016-01-04</td>\n",
       "      <td>207</td>\n",
       "      <td>2011-11-01</td>\n",
       "      <td>2016-01-02</td>\n",
       "      <td>95.0</td>\n",
       "      <td>10.0</td>\n",
       "      <td>10.0</td>\n",
       "      <td>10.0</td>\n",
       "      <td>10.0</td>\n",
       "      <td>9.0</td>\n",
       "      <td>10.0</td>\n",
       "      <td>f</td>\n",
       "      <td>NaN</td>\n",
       "      <td>WASHINGTON</td>\n",
       "      <td>f</td>\n",
       "      <td>moderate</td>\n",
       "      <td>f</td>\n",
       "      <td>f</td>\n",
       "      <td>2</td>\n",
       "      <td>4.07</td>\n",
       "    </tr>\n",
       "    <tr>\n",
       "      <th>1</th>\n",
       "      <td>953595</td>\n",
       "      <td>https://www.airbnb.com/rooms/953595</td>\n",
       "      <td>20160104002432</td>\n",
       "      <td>2016-01-04</td>\n",
       "      <td>Bright &amp; Airy Queen Anne Apartment</td>\n",
       "      <td>Chemically sensitive? We've removed the irrita...</td>\n",
       "      <td>Beautiful, hypoallergenic apartment in an extr...</td>\n",
       "      <td>Chemically sensitive? We've removed the irrita...</td>\n",
       "      <td>none</td>\n",
       "      <td>Queen Anne is a wonderful, truly functional vi...</td>\n",
       "      <td>What's up with the free pillows?  Our home was...</td>\n",
       "      <td>Convenient bus stops are just down the block, ...</td>\n",
       "      <td>https://a0.muscache.com/ac/pictures/14409893/f...</td>\n",
       "      <td>https://a0.muscache.com/im/pictures/14409893/f...</td>\n",
       "      <td>https://a0.muscache.com/ac/pictures/14409893/f...</td>\n",
       "      <td>https://a0.muscache.com/ac/pictures/14409893/f...</td>\n",
       "      <td>5177328</td>\n",
       "      <td>https://www.airbnb.com/users/show/5177328</td>\n",
       "      <td>Andrea</td>\n",
       "      <td>2013-02-21</td>\n",
       "      <td>Seattle, Washington, United States</td>\n",
       "      <td>Living east coast/left coast/overseas.  Time i...</td>\n",
       "      <td>within an hour</td>\n",
       "      <td>98%</td>\n",
       "      <td>100%</td>\n",
       "      <td>t</td>\n",
       "      <td>https://a0.muscache.com/ac/users/5177328/profi...</td>\n",
       "      <td>https://a0.muscache.com/ac/users/5177328/profi...</td>\n",
       "      <td>Queen Anne</td>\n",
       "      <td>6.0</td>\n",
       "      <td>6.0</td>\n",
       "      <td>['email', 'phone', 'facebook', 'linkedin', 're...</td>\n",
       "      <td>t</td>\n",
       "      <td>t</td>\n",
       "      <td>7th Avenue West, Seattle, WA 98119, United States</td>\n",
       "      <td>Queen Anne</td>\n",
       "      <td>West Queen Anne</td>\n",
       "      <td>Queen Anne</td>\n",
       "      <td>Seattle</td>\n",
       "      <td>WA</td>\n",
       "      <td>98119</td>\n",
       "      <td>Seattle</td>\n",
       "      <td>Seattle, WA</td>\n",
       "      <td>US</td>\n",
       "      <td>United States</td>\n",
       "      <td>47.639123</td>\n",
       "      <td>-122.365666</td>\n",
       "      <td>t</td>\n",
       "      <td>Apartment</td>\n",
       "      <td>Entire home/apt</td>\n",
       "      <td>4</td>\n",
       "      <td>1.0</td>\n",
       "      <td>1.0</td>\n",
       "      <td>1.0</td>\n",
       "      <td>Real Bed</td>\n",
       "      <td>{TV,Internet,\"Wireless Internet\",Kitchen,\"Free...</td>\n",
       "      <td>NaN</td>\n",
       "      <td>$150.00</td>\n",
       "      <td>$1,000.00</td>\n",
       "      <td>$3,000.00</td>\n",
       "      <td>$100.00</td>\n",
       "      <td>$40.00</td>\n",
       "      <td>1</td>\n",
       "      <td>$0.00</td>\n",
       "      <td>2</td>\n",
       "      <td>90</td>\n",
       "      <td>today</td>\n",
       "      <td>t</td>\n",
       "      <td>13</td>\n",
       "      <td>13</td>\n",
       "      <td>16</td>\n",
       "      <td>291</td>\n",
       "      <td>2016-01-04</td>\n",
       "      <td>43</td>\n",
       "      <td>2013-08-19</td>\n",
       "      <td>2015-12-29</td>\n",
       "      <td>96.0</td>\n",
       "      <td>10.0</td>\n",
       "      <td>10.0</td>\n",
       "      <td>10.0</td>\n",
       "      <td>10.0</td>\n",
       "      <td>10.0</td>\n",
       "      <td>10.0</td>\n",
       "      <td>f</td>\n",
       "      <td>NaN</td>\n",
       "      <td>WASHINGTON</td>\n",
       "      <td>f</td>\n",
       "      <td>strict</td>\n",
       "      <td>t</td>\n",
       "      <td>t</td>\n",
       "      <td>6</td>\n",
       "      <td>1.48</td>\n",
       "    </tr>\n",
       "    <tr>\n",
       "      <th>2</th>\n",
       "      <td>3308979</td>\n",
       "      <td>https://www.airbnb.com/rooms/3308979</td>\n",
       "      <td>20160104002432</td>\n",
       "      <td>2016-01-04</td>\n",
       "      <td>New Modern House-Amazing water view</td>\n",
       "      <td>New modern house built in 2013.  Spectacular s...</td>\n",
       "      <td>Our house is modern, light and fresh with a wa...</td>\n",
       "      <td>New modern house built in 2013.  Spectacular s...</td>\n",
       "      <td>none</td>\n",
       "      <td>Upper Queen Anne is a charming neighborhood fu...</td>\n",
       "      <td>Our house is located just 5 short blocks to To...</td>\n",
       "      <td>A bus stop is just 2 blocks away.   Easy bus a...</td>\n",
       "      <td>NaN</td>\n",
       "      <td>NaN</td>\n",
       "      <td>https://a2.muscache.com/ac/pictures/b4324e0f-a...</td>\n",
       "      <td>NaN</td>\n",
       "      <td>16708587</td>\n",
       "      <td>https://www.airbnb.com/users/show/16708587</td>\n",
       "      <td>Jill</td>\n",
       "      <td>2014-06-12</td>\n",
       "      <td>Seattle, Washington, United States</td>\n",
       "      <td>i love living in Seattle.  i grew up in the mi...</td>\n",
       "      <td>within a few hours</td>\n",
       "      <td>67%</td>\n",
       "      <td>100%</td>\n",
       "      <td>f</td>\n",
       "      <td>https://a1.muscache.com/ac/users/16708587/prof...</td>\n",
       "      <td>https://a1.muscache.com/ac/users/16708587/prof...</td>\n",
       "      <td>Queen Anne</td>\n",
       "      <td>2.0</td>\n",
       "      <td>2.0</td>\n",
       "      <td>['email', 'phone', 'google', 'reviews', 'jumio']</td>\n",
       "      <td>t</td>\n",
       "      <td>t</td>\n",
       "      <td>West Lee Street, Seattle, WA 98119, United States</td>\n",
       "      <td>Queen Anne</td>\n",
       "      <td>West Queen Anne</td>\n",
       "      <td>Queen Anne</td>\n",
       "      <td>Seattle</td>\n",
       "      <td>WA</td>\n",
       "      <td>98119</td>\n",
       "      <td>Seattle</td>\n",
       "      <td>Seattle, WA</td>\n",
       "      <td>US</td>\n",
       "      <td>United States</td>\n",
       "      <td>47.629724</td>\n",
       "      <td>-122.369483</td>\n",
       "      <td>t</td>\n",
       "      <td>House</td>\n",
       "      <td>Entire home/apt</td>\n",
       "      <td>11</td>\n",
       "      <td>4.5</td>\n",
       "      <td>5.0</td>\n",
       "      <td>7.0</td>\n",
       "      <td>Real Bed</td>\n",
       "      <td>{TV,\"Cable TV\",Internet,\"Wireless Internet\",\"A...</td>\n",
       "      <td>NaN</td>\n",
       "      <td>$975.00</td>\n",
       "      <td>NaN</td>\n",
       "      <td>NaN</td>\n",
       "      <td>$1,000.00</td>\n",
       "      <td>$300.00</td>\n",
       "      <td>10</td>\n",
       "      <td>$25.00</td>\n",
       "      <td>4</td>\n",
       "      <td>30</td>\n",
       "      <td>5 weeks ago</td>\n",
       "      <td>t</td>\n",
       "      <td>1</td>\n",
       "      <td>6</td>\n",
       "      <td>17</td>\n",
       "      <td>220</td>\n",
       "      <td>2016-01-04</td>\n",
       "      <td>20</td>\n",
       "      <td>2014-07-30</td>\n",
       "      <td>2015-09-03</td>\n",
       "      <td>97.0</td>\n",
       "      <td>10.0</td>\n",
       "      <td>10.0</td>\n",
       "      <td>10.0</td>\n",
       "      <td>10.0</td>\n",
       "      <td>10.0</td>\n",
       "      <td>10.0</td>\n",
       "      <td>f</td>\n",
       "      <td>NaN</td>\n",
       "      <td>WASHINGTON</td>\n",
       "      <td>f</td>\n",
       "      <td>strict</td>\n",
       "      <td>f</td>\n",
       "      <td>f</td>\n",
       "      <td>2</td>\n",
       "      <td>1.15</td>\n",
       "    </tr>\n",
       "    <tr>\n",
       "      <th>3</th>\n",
       "      <td>7421966</td>\n",
       "      <td>https://www.airbnb.com/rooms/7421966</td>\n",
       "      <td>20160104002432</td>\n",
       "      <td>2016-01-04</td>\n",
       "      <td>Queen Anne Chateau</td>\n",
       "      <td>A charming apartment that sits atop Queen Anne...</td>\n",
       "      <td>NaN</td>\n",
       "      <td>A charming apartment that sits atop Queen Anne...</td>\n",
       "      <td>none</td>\n",
       "      <td>NaN</td>\n",
       "      <td>NaN</td>\n",
       "      <td>NaN</td>\n",
       "      <td>NaN</td>\n",
       "      <td>NaN</td>\n",
       "      <td>https://a0.muscache.com/ac/pictures/94146944/6...</td>\n",
       "      <td>NaN</td>\n",
       "      <td>9851441</td>\n",
       "      <td>https://www.airbnb.com/users/show/9851441</td>\n",
       "      <td>Emily</td>\n",
       "      <td>2013-11-06</td>\n",
       "      <td>Seattle, Washington, United States</td>\n",
       "      <td>NaN</td>\n",
       "      <td>NaN</td>\n",
       "      <td>NaN</td>\n",
       "      <td>NaN</td>\n",
       "      <td>f</td>\n",
       "      <td>https://a2.muscache.com/ac/users/9851441/profi...</td>\n",
       "      <td>https://a2.muscache.com/ac/users/9851441/profi...</td>\n",
       "      <td>Queen Anne</td>\n",
       "      <td>1.0</td>\n",
       "      <td>1.0</td>\n",
       "      <td>['email', 'phone', 'facebook', 'reviews', 'jum...</td>\n",
       "      <td>t</td>\n",
       "      <td>t</td>\n",
       "      <td>8th Avenue West, Seattle, WA 98119, United States</td>\n",
       "      <td>Queen Anne</td>\n",
       "      <td>West Queen Anne</td>\n",
       "      <td>Queen Anne</td>\n",
       "      <td>Seattle</td>\n",
       "      <td>WA</td>\n",
       "      <td>98119</td>\n",
       "      <td>Seattle</td>\n",
       "      <td>Seattle, WA</td>\n",
       "      <td>US</td>\n",
       "      <td>United States</td>\n",
       "      <td>47.638473</td>\n",
       "      <td>-122.369279</td>\n",
       "      <td>t</td>\n",
       "      <td>Apartment</td>\n",
       "      <td>Entire home/apt</td>\n",
       "      <td>3</td>\n",
       "      <td>1.0</td>\n",
       "      <td>0.0</td>\n",
       "      <td>2.0</td>\n",
       "      <td>Real Bed</td>\n",
       "      <td>{Internet,\"Wireless Internet\",Kitchen,\"Indoor ...</td>\n",
       "      <td>NaN</td>\n",
       "      <td>$100.00</td>\n",
       "      <td>$650.00</td>\n",
       "      <td>$2,300.00</td>\n",
       "      <td>NaN</td>\n",
       "      <td>NaN</td>\n",
       "      <td>1</td>\n",
       "      <td>$0.00</td>\n",
       "      <td>1</td>\n",
       "      <td>1125</td>\n",
       "      <td>6 months ago</td>\n",
       "      <td>t</td>\n",
       "      <td>0</td>\n",
       "      <td>0</td>\n",
       "      <td>0</td>\n",
       "      <td>143</td>\n",
       "      <td>2016-01-04</td>\n",
       "      <td>0</td>\n",
       "      <td>NaN</td>\n",
       "      <td>NaN</td>\n",
       "      <td>NaN</td>\n",
       "      <td>NaN</td>\n",
       "      <td>NaN</td>\n",
       "      <td>NaN</td>\n",
       "      <td>NaN</td>\n",
       "      <td>NaN</td>\n",
       "      <td>NaN</td>\n",
       "      <td>f</td>\n",
       "      <td>NaN</td>\n",
       "      <td>WASHINGTON</td>\n",
       "      <td>f</td>\n",
       "      <td>flexible</td>\n",
       "      <td>f</td>\n",
       "      <td>f</td>\n",
       "      <td>1</td>\n",
       "      <td>NaN</td>\n",
       "    </tr>\n",
       "    <tr>\n",
       "      <th>4</th>\n",
       "      <td>278830</td>\n",
       "      <td>https://www.airbnb.com/rooms/278830</td>\n",
       "      <td>20160104002432</td>\n",
       "      <td>2016-01-04</td>\n",
       "      <td>Charming craftsman 3 bdm house</td>\n",
       "      <td>Cozy family craftman house in beautiful neighb...</td>\n",
       "      <td>Cozy family craftman house in beautiful neighb...</td>\n",
       "      <td>Cozy family craftman house in beautiful neighb...</td>\n",
       "      <td>none</td>\n",
       "      <td>We are in the beautiful neighborhood of Queen ...</td>\n",
       "      <td>Belltown</td>\n",
       "      <td>The nearest public transit bus (D Line) is 2 b...</td>\n",
       "      <td>NaN</td>\n",
       "      <td>NaN</td>\n",
       "      <td>https://a1.muscache.com/ac/pictures/6120468/b0...</td>\n",
       "      <td>NaN</td>\n",
       "      <td>1452570</td>\n",
       "      <td>https://www.airbnb.com/users/show/1452570</td>\n",
       "      <td>Emily</td>\n",
       "      <td>2011-11-29</td>\n",
       "      <td>Seattle, Washington, United States</td>\n",
       "      <td>Hi, I live in Seattle, Washington but I'm orig...</td>\n",
       "      <td>within an hour</td>\n",
       "      <td>100%</td>\n",
       "      <td>NaN</td>\n",
       "      <td>f</td>\n",
       "      <td>https://a0.muscache.com/ac/users/1452570/profi...</td>\n",
       "      <td>https://a0.muscache.com/ac/users/1452570/profi...</td>\n",
       "      <td>Queen Anne</td>\n",
       "      <td>2.0</td>\n",
       "      <td>2.0</td>\n",
       "      <td>['email', 'phone', 'facebook', 'reviews', 'kba']</td>\n",
       "      <td>t</td>\n",
       "      <td>t</td>\n",
       "      <td>14th Ave W, Seattle, WA 98119, United States</td>\n",
       "      <td>Queen Anne</td>\n",
       "      <td>West Queen Anne</td>\n",
       "      <td>Queen Anne</td>\n",
       "      <td>Seattle</td>\n",
       "      <td>WA</td>\n",
       "      <td>98119</td>\n",
       "      <td>Seattle</td>\n",
       "      <td>Seattle, WA</td>\n",
       "      <td>US</td>\n",
       "      <td>United States</td>\n",
       "      <td>47.632918</td>\n",
       "      <td>-122.372471</td>\n",
       "      <td>t</td>\n",
       "      <td>House</td>\n",
       "      <td>Entire home/apt</td>\n",
       "      <td>6</td>\n",
       "      <td>2.0</td>\n",
       "      <td>3.0</td>\n",
       "      <td>3.0</td>\n",
       "      <td>Real Bed</td>\n",
       "      <td>{TV,\"Cable TV\",Internet,\"Wireless Internet\",Ki...</td>\n",
       "      <td>NaN</td>\n",
       "      <td>$450.00</td>\n",
       "      <td>NaN</td>\n",
       "      <td>NaN</td>\n",
       "      <td>$700.00</td>\n",
       "      <td>$125.00</td>\n",
       "      <td>6</td>\n",
       "      <td>$15.00</td>\n",
       "      <td>1</td>\n",
       "      <td>1125</td>\n",
       "      <td>7 weeks ago</td>\n",
       "      <td>t</td>\n",
       "      <td>30</td>\n",
       "      <td>60</td>\n",
       "      <td>90</td>\n",
       "      <td>365</td>\n",
       "      <td>2016-01-04</td>\n",
       "      <td>38</td>\n",
       "      <td>2012-07-10</td>\n",
       "      <td>2015-10-24</td>\n",
       "      <td>92.0</td>\n",
       "      <td>9.0</td>\n",
       "      <td>9.0</td>\n",
       "      <td>10.0</td>\n",
       "      <td>10.0</td>\n",
       "      <td>9.0</td>\n",
       "      <td>9.0</td>\n",
       "      <td>f</td>\n",
       "      <td>NaN</td>\n",
       "      <td>WASHINGTON</td>\n",
       "      <td>f</td>\n",
       "      <td>strict</td>\n",
       "      <td>f</td>\n",
       "      <td>f</td>\n",
       "      <td>1</td>\n",
       "      <td>0.89</td>\n",
       "    </tr>\n",
       "  </tbody>\n",
       "</table>\n",
       "</div>"
      ],
      "text/plain": [
       "        id                           listing_url       scrape_id last_scraped                                 name                                            summary                                              space                                        description experiences_offered                              neighborhood_overview                                              notes                                            transit                                      thumbnail_url                                         medium_url                                        picture_url                                     xl_picture_url   host_id                                    host_url host_name  host_since                       host_location                                         host_about  host_response_time host_response_rate host_acceptance_rate host_is_superhost                                 host_thumbnail_url                                   host_picture_url  \\\n",
       "0   241032   https://www.airbnb.com/rooms/241032  20160104002432   2016-01-04         Stylish Queen Anne Apartment                                                NaN  Make your self at home in this charming one-be...  Make your self at home in this charming one-be...                none                                                NaN                                                NaN                                                NaN                                                NaN                                                NaN  https://a1.muscache.com/ac/pictures/67560560/c...                                                NaN    956883    https://www.airbnb.com/users/show/956883     Maija  2011-08-11  Seattle, Washington, United States  I am an artist, interior designer, and run a s...  within a few hours                96%                 100%                 f  https://a0.muscache.com/ac/users/956883/profil...  https://a0.muscache.com/ac/users/956883/profil...   \n",
       "1   953595   https://www.airbnb.com/rooms/953595  20160104002432   2016-01-04   Bright & Airy Queen Anne Apartment  Chemically sensitive? We've removed the irrita...  Beautiful, hypoallergenic apartment in an extr...  Chemically sensitive? We've removed the irrita...                none  Queen Anne is a wonderful, truly functional vi...  What's up with the free pillows?  Our home was...  Convenient bus stops are just down the block, ...  https://a0.muscache.com/ac/pictures/14409893/f...  https://a0.muscache.com/im/pictures/14409893/f...  https://a0.muscache.com/ac/pictures/14409893/f...  https://a0.muscache.com/ac/pictures/14409893/f...   5177328   https://www.airbnb.com/users/show/5177328    Andrea  2013-02-21  Seattle, Washington, United States  Living east coast/left coast/overseas.  Time i...      within an hour                98%                 100%                 t  https://a0.muscache.com/ac/users/5177328/profi...  https://a0.muscache.com/ac/users/5177328/profi...   \n",
       "2  3308979  https://www.airbnb.com/rooms/3308979  20160104002432   2016-01-04  New Modern House-Amazing water view  New modern house built in 2013.  Spectacular s...  Our house is modern, light and fresh with a wa...  New modern house built in 2013.  Spectacular s...                none  Upper Queen Anne is a charming neighborhood fu...  Our house is located just 5 short blocks to To...  A bus stop is just 2 blocks away.   Easy bus a...                                                NaN                                                NaN  https://a2.muscache.com/ac/pictures/b4324e0f-a...                                                NaN  16708587  https://www.airbnb.com/users/show/16708587      Jill  2014-06-12  Seattle, Washington, United States  i love living in Seattle.  i grew up in the mi...  within a few hours                67%                 100%                 f  https://a1.muscache.com/ac/users/16708587/prof...  https://a1.muscache.com/ac/users/16708587/prof...   \n",
       "3  7421966  https://www.airbnb.com/rooms/7421966  20160104002432   2016-01-04                   Queen Anne Chateau  A charming apartment that sits atop Queen Anne...                                                NaN  A charming apartment that sits atop Queen Anne...                none                                                NaN                                                NaN                                                NaN                                                NaN                                                NaN  https://a0.muscache.com/ac/pictures/94146944/6...                                                NaN   9851441   https://www.airbnb.com/users/show/9851441     Emily  2013-11-06  Seattle, Washington, United States                                                NaN                 NaN                NaN                  NaN                 f  https://a2.muscache.com/ac/users/9851441/profi...  https://a2.muscache.com/ac/users/9851441/profi...   \n",
       "4   278830   https://www.airbnb.com/rooms/278830  20160104002432   2016-01-04       Charming craftsman 3 bdm house  Cozy family craftman house in beautiful neighb...  Cozy family craftman house in beautiful neighb...  Cozy family craftman house in beautiful neighb...                none  We are in the beautiful neighborhood of Queen ...                                          Belltown   The nearest public transit bus (D Line) is 2 b...                                                NaN                                                NaN  https://a1.muscache.com/ac/pictures/6120468/b0...                                                NaN   1452570   https://www.airbnb.com/users/show/1452570     Emily  2011-11-29  Seattle, Washington, United States  Hi, I live in Seattle, Washington but I'm orig...      within an hour               100%                  NaN                 f  https://a0.muscache.com/ac/users/1452570/profi...  https://a0.muscache.com/ac/users/1452570/profi...   \n",
       "\n",
       "  host_neighbourhood  host_listings_count  host_total_listings_count                                 host_verifications host_has_profile_pic host_identity_verified                                             street neighbourhood neighbourhood_cleansed neighbourhood_group_cleansed     city state zipcode   market smart_location country_code        country   latitude   longitude is_location_exact property_type        room_type  accommodates  bathrooms  bedrooms  beds  bed_type                                          amenities  square_feet    price weekly_price monthly_price security_deposit cleaning_fee  guests_included extra_people  minimum_nights  maximum_nights calendar_updated has_availability  availability_30  availability_60  availability_90  availability_365 calendar_last_scraped  number_of_reviews first_review last_review  review_scores_rating  review_scores_accuracy  review_scores_cleanliness  review_scores_checkin  review_scores_communication  review_scores_location  \\\n",
       "0         Queen Anne                  3.0                        3.0               ['email', 'phone', 'reviews', 'kba']                    t                      t      Gilman Dr W, Seattle, WA 98119, United States    Queen Anne        West Queen Anne                   Queen Anne  Seattle    WA   98119  Seattle    Seattle, WA           US  United States  47.636289 -122.371025                 t     Apartment  Entire home/apt             4        1.0       1.0   1.0  Real Bed  {TV,\"Cable TV\",Internet,\"Wireless Internet\",\"A...          NaN   $85.00          NaN           NaN              NaN          NaN                2        $5.00               1             365      4 weeks ago                t               14               41               71               346            2016-01-04                207   2011-11-01  2016-01-02                  95.0                    10.0                       10.0                   10.0                         10.0                     9.0   \n",
       "1         Queen Anne                  6.0                        6.0  ['email', 'phone', 'facebook', 'linkedin', 're...                    t                      t  7th Avenue West, Seattle, WA 98119, United States    Queen Anne        West Queen Anne                   Queen Anne  Seattle    WA   98119  Seattle    Seattle, WA           US  United States  47.639123 -122.365666                 t     Apartment  Entire home/apt             4        1.0       1.0   1.0  Real Bed  {TV,Internet,\"Wireless Internet\",Kitchen,\"Free...          NaN  $150.00    $1,000.00     $3,000.00          $100.00       $40.00                1        $0.00               2              90            today                t               13               13               16               291            2016-01-04                 43   2013-08-19  2015-12-29                  96.0                    10.0                       10.0                   10.0                         10.0                    10.0   \n",
       "2         Queen Anne                  2.0                        2.0   ['email', 'phone', 'google', 'reviews', 'jumio']                    t                      t  West Lee Street, Seattle, WA 98119, United States    Queen Anne        West Queen Anne                   Queen Anne  Seattle    WA   98119  Seattle    Seattle, WA           US  United States  47.629724 -122.369483                 t         House  Entire home/apt            11        4.5       5.0   7.0  Real Bed  {TV,\"Cable TV\",Internet,\"Wireless Internet\",\"A...          NaN  $975.00          NaN           NaN        $1,000.00      $300.00               10       $25.00               4              30      5 weeks ago                t                1                6               17               220            2016-01-04                 20   2014-07-30  2015-09-03                  97.0                    10.0                       10.0                   10.0                         10.0                    10.0   \n",
       "3         Queen Anne                  1.0                        1.0  ['email', 'phone', 'facebook', 'reviews', 'jum...                    t                      t  8th Avenue West, Seattle, WA 98119, United States    Queen Anne        West Queen Anne                   Queen Anne  Seattle    WA   98119  Seattle    Seattle, WA           US  United States  47.638473 -122.369279                 t     Apartment  Entire home/apt             3        1.0       0.0   2.0  Real Bed  {Internet,\"Wireless Internet\",Kitchen,\"Indoor ...          NaN  $100.00      $650.00     $2,300.00              NaN          NaN                1        $0.00               1            1125     6 months ago                t                0                0                0               143            2016-01-04                  0          NaN         NaN                   NaN                     NaN                        NaN                    NaN                          NaN                     NaN   \n",
       "4         Queen Anne                  2.0                        2.0   ['email', 'phone', 'facebook', 'reviews', 'kba']                    t                      t       14th Ave W, Seattle, WA 98119, United States    Queen Anne        West Queen Anne                   Queen Anne  Seattle    WA   98119  Seattle    Seattle, WA           US  United States  47.632918 -122.372471                 t         House  Entire home/apt             6        2.0       3.0   3.0  Real Bed  {TV,\"Cable TV\",Internet,\"Wireless Internet\",Ki...          NaN  $450.00          NaN           NaN          $700.00      $125.00                6       $15.00               1            1125      7 weeks ago                t               30               60               90               365            2016-01-04                 38   2012-07-10  2015-10-24                  92.0                     9.0                        9.0                   10.0                         10.0                     9.0   \n",
       "\n",
       "   review_scores_value requires_license  license jurisdiction_names instant_bookable cancellation_policy require_guest_profile_picture require_guest_phone_verification  calculated_host_listings_count  reviews_per_month  \n",
       "0                 10.0                f      NaN         WASHINGTON                f            moderate                             f                                f                               2               4.07  \n",
       "1                 10.0                f      NaN         WASHINGTON                f              strict                             t                                t                               6               1.48  \n",
       "2                 10.0                f      NaN         WASHINGTON                f              strict                             f                                f                               2               1.15  \n",
       "3                  NaN                f      NaN         WASHINGTON                f            flexible                             f                                f                               1                NaN  \n",
       "4                  9.0                f      NaN         WASHINGTON                f              strict                             f                                f                               1               0.89  "
      ]
     },
     "execution_count": 8,
     "metadata": {},
     "output_type": "execute_result"
    }
   ],
   "source": [
    "#data overview\n",
    "listing_seattle.head()"
   ]
  },
  {
   "cell_type": "markdown",
   "metadata": {},
   "source": [
    "##### ***Basic checks and high level data analysis***"
   ]
  },
  {
   "cell_type": "code",
   "execution_count": 9,
   "metadata": {},
   "outputs": [
    {
     "data": {
      "text/html": [
       "<div>\n",
       "<style scoped>\n",
       "    .dataframe tbody tr th:only-of-type {\n",
       "        vertical-align: middle;\n",
       "    }\n",
       "\n",
       "    .dataframe tbody tr th {\n",
       "        vertical-align: top;\n",
       "    }\n",
       "\n",
       "    .dataframe thead th {\n",
       "        text-align: right;\n",
       "    }\n",
       "</style>\n",
       "<table border=\"1\" class=\"dataframe\">\n",
       "  <thead>\n",
       "    <tr style=\"text-align: right;\">\n",
       "      <th></th>\n",
       "      <th>id</th>\n",
       "      <th>scrape_id</th>\n",
       "      <th>host_id</th>\n",
       "      <th>host_listings_count</th>\n",
       "      <th>host_total_listings_count</th>\n",
       "      <th>latitude</th>\n",
       "      <th>longitude</th>\n",
       "      <th>accommodates</th>\n",
       "      <th>bathrooms</th>\n",
       "      <th>bedrooms</th>\n",
       "      <th>beds</th>\n",
       "      <th>square_feet</th>\n",
       "      <th>guests_included</th>\n",
       "      <th>minimum_nights</th>\n",
       "      <th>maximum_nights</th>\n",
       "      <th>availability_30</th>\n",
       "      <th>availability_60</th>\n",
       "      <th>availability_90</th>\n",
       "      <th>availability_365</th>\n",
       "      <th>number_of_reviews</th>\n",
       "      <th>review_scores_rating</th>\n",
       "      <th>review_scores_accuracy</th>\n",
       "      <th>review_scores_cleanliness</th>\n",
       "      <th>review_scores_checkin</th>\n",
       "      <th>review_scores_communication</th>\n",
       "      <th>review_scores_location</th>\n",
       "      <th>review_scores_value</th>\n",
       "      <th>license</th>\n",
       "      <th>calculated_host_listings_count</th>\n",
       "      <th>reviews_per_month</th>\n",
       "    </tr>\n",
       "  </thead>\n",
       "  <tbody>\n",
       "    <tr>\n",
       "      <th>count</th>\n",
       "      <td>3.818000e+03</td>\n",
       "      <td>3.818000e+03</td>\n",
       "      <td>3.818000e+03</td>\n",
       "      <td>3816.000000</td>\n",
       "      <td>3816.000000</td>\n",
       "      <td>3818.000000</td>\n",
       "      <td>3818.000000</td>\n",
       "      <td>3818.000000</td>\n",
       "      <td>3802.000000</td>\n",
       "      <td>3812.000000</td>\n",
       "      <td>3817.000000</td>\n",
       "      <td>97.000000</td>\n",
       "      <td>3818.000000</td>\n",
       "      <td>3818.000000</td>\n",
       "      <td>3818.000000</td>\n",
       "      <td>3818.000000</td>\n",
       "      <td>3818.000000</td>\n",
       "      <td>3818.000000</td>\n",
       "      <td>3818.000000</td>\n",
       "      <td>3818.000000</td>\n",
       "      <td>3171.000000</td>\n",
       "      <td>3160.000000</td>\n",
       "      <td>3165.000000</td>\n",
       "      <td>3160.000000</td>\n",
       "      <td>3167.000000</td>\n",
       "      <td>3163.000000</td>\n",
       "      <td>3162.000000</td>\n",
       "      <td>0.0</td>\n",
       "      <td>3818.000000</td>\n",
       "      <td>3191.000000</td>\n",
       "    </tr>\n",
       "    <tr>\n",
       "      <th>mean</th>\n",
       "      <td>5.550111e+06</td>\n",
       "      <td>2.016010e+13</td>\n",
       "      <td>1.578556e+07</td>\n",
       "      <td>7.157757</td>\n",
       "      <td>7.157757</td>\n",
       "      <td>47.628961</td>\n",
       "      <td>-122.333103</td>\n",
       "      <td>3.349398</td>\n",
       "      <td>1.259469</td>\n",
       "      <td>1.307712</td>\n",
       "      <td>1.735394</td>\n",
       "      <td>854.618557</td>\n",
       "      <td>1.672603</td>\n",
       "      <td>2.369303</td>\n",
       "      <td>780.447617</td>\n",
       "      <td>16.786276</td>\n",
       "      <td>36.814825</td>\n",
       "      <td>58.082504</td>\n",
       "      <td>244.772656</td>\n",
       "      <td>22.223415</td>\n",
       "      <td>94.539262</td>\n",
       "      <td>9.636392</td>\n",
       "      <td>9.556398</td>\n",
       "      <td>9.786709</td>\n",
       "      <td>9.809599</td>\n",
       "      <td>9.608916</td>\n",
       "      <td>9.452245</td>\n",
       "      <td>NaN</td>\n",
       "      <td>2.946307</td>\n",
       "      <td>2.078919</td>\n",
       "    </tr>\n",
       "    <tr>\n",
       "      <th>std</th>\n",
       "      <td>2.962660e+06</td>\n",
       "      <td>0.000000e+00</td>\n",
       "      <td>1.458382e+07</td>\n",
       "      <td>28.628149</td>\n",
       "      <td>28.628149</td>\n",
       "      <td>0.043052</td>\n",
       "      <td>0.031745</td>\n",
       "      <td>1.977599</td>\n",
       "      <td>0.590369</td>\n",
       "      <td>0.883395</td>\n",
       "      <td>1.139480</td>\n",
       "      <td>671.404893</td>\n",
       "      <td>1.311040</td>\n",
       "      <td>16.305902</td>\n",
       "      <td>1683.589007</td>\n",
       "      <td>12.173637</td>\n",
       "      <td>23.337541</td>\n",
       "      <td>34.063845</td>\n",
       "      <td>126.772526</td>\n",
       "      <td>37.730892</td>\n",
       "      <td>6.606083</td>\n",
       "      <td>0.698031</td>\n",
       "      <td>0.797274</td>\n",
       "      <td>0.595499</td>\n",
       "      <td>0.568211</td>\n",
       "      <td>0.629053</td>\n",
       "      <td>0.750259</td>\n",
       "      <td>NaN</td>\n",
       "      <td>5.893029</td>\n",
       "      <td>1.822348</td>\n",
       "    </tr>\n",
       "    <tr>\n",
       "      <th>min</th>\n",
       "      <td>3.335000e+03</td>\n",
       "      <td>2.016010e+13</td>\n",
       "      <td>4.193000e+03</td>\n",
       "      <td>1.000000</td>\n",
       "      <td>1.000000</td>\n",
       "      <td>47.505088</td>\n",
       "      <td>-122.417219</td>\n",
       "      <td>1.000000</td>\n",
       "      <td>0.000000</td>\n",
       "      <td>0.000000</td>\n",
       "      <td>1.000000</td>\n",
       "      <td>0.000000</td>\n",
       "      <td>0.000000</td>\n",
       "      <td>1.000000</td>\n",
       "      <td>1.000000</td>\n",
       "      <td>0.000000</td>\n",
       "      <td>0.000000</td>\n",
       "      <td>0.000000</td>\n",
       "      <td>0.000000</td>\n",
       "      <td>0.000000</td>\n",
       "      <td>20.000000</td>\n",
       "      <td>2.000000</td>\n",
       "      <td>3.000000</td>\n",
       "      <td>2.000000</td>\n",
       "      <td>2.000000</td>\n",
       "      <td>4.000000</td>\n",
       "      <td>2.000000</td>\n",
       "      <td>NaN</td>\n",
       "      <td>1.000000</td>\n",
       "      <td>0.020000</td>\n",
       "    </tr>\n",
       "    <tr>\n",
       "      <th>25%</th>\n",
       "      <td>3.258256e+06</td>\n",
       "      <td>2.016010e+13</td>\n",
       "      <td>3.275204e+06</td>\n",
       "      <td>1.000000</td>\n",
       "      <td>1.000000</td>\n",
       "      <td>47.609418</td>\n",
       "      <td>-122.354320</td>\n",
       "      <td>2.000000</td>\n",
       "      <td>1.000000</td>\n",
       "      <td>1.000000</td>\n",
       "      <td>1.000000</td>\n",
       "      <td>420.000000</td>\n",
       "      <td>1.000000</td>\n",
       "      <td>1.000000</td>\n",
       "      <td>60.000000</td>\n",
       "      <td>2.000000</td>\n",
       "      <td>13.000000</td>\n",
       "      <td>28.000000</td>\n",
       "      <td>124.000000</td>\n",
       "      <td>2.000000</td>\n",
       "      <td>93.000000</td>\n",
       "      <td>9.000000</td>\n",
       "      <td>9.000000</td>\n",
       "      <td>10.000000</td>\n",
       "      <td>10.000000</td>\n",
       "      <td>9.000000</td>\n",
       "      <td>9.000000</td>\n",
       "      <td>NaN</td>\n",
       "      <td>1.000000</td>\n",
       "      <td>0.695000</td>\n",
       "    </tr>\n",
       "    <tr>\n",
       "      <th>50%</th>\n",
       "      <td>6.118244e+06</td>\n",
       "      <td>2.016010e+13</td>\n",
       "      <td>1.055814e+07</td>\n",
       "      <td>1.000000</td>\n",
       "      <td>1.000000</td>\n",
       "      <td>47.623601</td>\n",
       "      <td>-122.328874</td>\n",
       "      <td>3.000000</td>\n",
       "      <td>1.000000</td>\n",
       "      <td>1.000000</td>\n",
       "      <td>1.000000</td>\n",
       "      <td>750.000000</td>\n",
       "      <td>1.000000</td>\n",
       "      <td>2.000000</td>\n",
       "      <td>1125.000000</td>\n",
       "      <td>20.000000</td>\n",
       "      <td>46.000000</td>\n",
       "      <td>73.000000</td>\n",
       "      <td>308.000000</td>\n",
       "      <td>9.000000</td>\n",
       "      <td>96.000000</td>\n",
       "      <td>10.000000</td>\n",
       "      <td>10.000000</td>\n",
       "      <td>10.000000</td>\n",
       "      <td>10.000000</td>\n",
       "      <td>10.000000</td>\n",
       "      <td>10.000000</td>\n",
       "      <td>NaN</td>\n",
       "      <td>1.000000</td>\n",
       "      <td>1.540000</td>\n",
       "    </tr>\n",
       "    <tr>\n",
       "      <th>75%</th>\n",
       "      <td>8.035127e+06</td>\n",
       "      <td>2.016010e+13</td>\n",
       "      <td>2.590309e+07</td>\n",
       "      <td>3.000000</td>\n",
       "      <td>3.000000</td>\n",
       "      <td>47.662694</td>\n",
       "      <td>-122.310800</td>\n",
       "      <td>4.000000</td>\n",
       "      <td>1.000000</td>\n",
       "      <td>2.000000</td>\n",
       "      <td>2.000000</td>\n",
       "      <td>1200.000000</td>\n",
       "      <td>2.000000</td>\n",
       "      <td>2.000000</td>\n",
       "      <td>1125.000000</td>\n",
       "      <td>30.000000</td>\n",
       "      <td>59.000000</td>\n",
       "      <td>89.000000</td>\n",
       "      <td>360.000000</td>\n",
       "      <td>26.000000</td>\n",
       "      <td>99.000000</td>\n",
       "      <td>10.000000</td>\n",
       "      <td>10.000000</td>\n",
       "      <td>10.000000</td>\n",
       "      <td>10.000000</td>\n",
       "      <td>10.000000</td>\n",
       "      <td>10.000000</td>\n",
       "      <td>NaN</td>\n",
       "      <td>2.000000</td>\n",
       "      <td>3.000000</td>\n",
       "    </tr>\n",
       "    <tr>\n",
       "      <th>max</th>\n",
       "      <td>1.034016e+07</td>\n",
       "      <td>2.016010e+13</td>\n",
       "      <td>5.320861e+07</td>\n",
       "      <td>502.000000</td>\n",
       "      <td>502.000000</td>\n",
       "      <td>47.733358</td>\n",
       "      <td>-122.240607</td>\n",
       "      <td>16.000000</td>\n",
       "      <td>8.000000</td>\n",
       "      <td>7.000000</td>\n",
       "      <td>15.000000</td>\n",
       "      <td>3000.000000</td>\n",
       "      <td>15.000000</td>\n",
       "      <td>1000.000000</td>\n",
       "      <td>100000.000000</td>\n",
       "      <td>30.000000</td>\n",
       "      <td>60.000000</td>\n",
       "      <td>90.000000</td>\n",
       "      <td>365.000000</td>\n",
       "      <td>474.000000</td>\n",
       "      <td>100.000000</td>\n",
       "      <td>10.000000</td>\n",
       "      <td>10.000000</td>\n",
       "      <td>10.000000</td>\n",
       "      <td>10.000000</td>\n",
       "      <td>10.000000</td>\n",
       "      <td>10.000000</td>\n",
       "      <td>NaN</td>\n",
       "      <td>37.000000</td>\n",
       "      <td>12.150000</td>\n",
       "    </tr>\n",
       "  </tbody>\n",
       "</table>\n",
       "</div>"
      ],
      "text/plain": [
       "                 id     scrape_id       host_id  host_listings_count  host_total_listings_count     latitude    longitude  accommodates    bathrooms     bedrooms         beds  square_feet  guests_included  minimum_nights  maximum_nights  availability_30  availability_60  availability_90  availability_365  number_of_reviews  review_scores_rating  review_scores_accuracy  review_scores_cleanliness  review_scores_checkin  review_scores_communication  review_scores_location  review_scores_value  license  calculated_host_listings_count  reviews_per_month\n",
       "count  3.818000e+03  3.818000e+03  3.818000e+03          3816.000000                3816.000000  3818.000000  3818.000000   3818.000000  3802.000000  3812.000000  3817.000000    97.000000      3818.000000     3818.000000     3818.000000      3818.000000      3818.000000      3818.000000       3818.000000        3818.000000           3171.000000             3160.000000                3165.000000            3160.000000                  3167.000000             3163.000000          3162.000000      0.0                     3818.000000        3191.000000\n",
       "mean   5.550111e+06  2.016010e+13  1.578556e+07             7.157757                   7.157757    47.628961  -122.333103      3.349398     1.259469     1.307712     1.735394   854.618557         1.672603        2.369303      780.447617        16.786276        36.814825        58.082504        244.772656          22.223415             94.539262                9.636392                   9.556398               9.786709                     9.809599                9.608916             9.452245      NaN                        2.946307           2.078919\n",
       "std    2.962660e+06  0.000000e+00  1.458382e+07            28.628149                  28.628149     0.043052     0.031745      1.977599     0.590369     0.883395     1.139480   671.404893         1.311040       16.305902     1683.589007        12.173637        23.337541        34.063845        126.772526          37.730892              6.606083                0.698031                   0.797274               0.595499                     0.568211                0.629053             0.750259      NaN                        5.893029           1.822348\n",
       "min    3.335000e+03  2.016010e+13  4.193000e+03             1.000000                   1.000000    47.505088  -122.417219      1.000000     0.000000     0.000000     1.000000     0.000000         0.000000        1.000000        1.000000         0.000000         0.000000         0.000000          0.000000           0.000000             20.000000                2.000000                   3.000000               2.000000                     2.000000                4.000000             2.000000      NaN                        1.000000           0.020000\n",
       "25%    3.258256e+06  2.016010e+13  3.275204e+06             1.000000                   1.000000    47.609418  -122.354320      2.000000     1.000000     1.000000     1.000000   420.000000         1.000000        1.000000       60.000000         2.000000        13.000000        28.000000        124.000000           2.000000             93.000000                9.000000                   9.000000              10.000000                    10.000000                9.000000             9.000000      NaN                        1.000000           0.695000\n",
       "50%    6.118244e+06  2.016010e+13  1.055814e+07             1.000000                   1.000000    47.623601  -122.328874      3.000000     1.000000     1.000000     1.000000   750.000000         1.000000        2.000000     1125.000000        20.000000        46.000000        73.000000        308.000000           9.000000             96.000000               10.000000                  10.000000              10.000000                    10.000000               10.000000            10.000000      NaN                        1.000000           1.540000\n",
       "75%    8.035127e+06  2.016010e+13  2.590309e+07             3.000000                   3.000000    47.662694  -122.310800      4.000000     1.000000     2.000000     2.000000  1200.000000         2.000000        2.000000     1125.000000        30.000000        59.000000        89.000000        360.000000          26.000000             99.000000               10.000000                  10.000000              10.000000                    10.000000               10.000000            10.000000      NaN                        2.000000           3.000000\n",
       "max    1.034016e+07  2.016010e+13  5.320861e+07           502.000000                 502.000000    47.733358  -122.240607     16.000000     8.000000     7.000000    15.000000  3000.000000        15.000000     1000.000000   100000.000000        30.000000        60.000000        90.000000        365.000000         474.000000            100.000000               10.000000                  10.000000              10.000000                    10.000000               10.000000            10.000000      NaN                       37.000000          12.150000"
      ]
     },
     "execution_count": 9,
     "metadata": {},
     "output_type": "execute_result"
    }
   ],
   "source": [
    "#description of all numeric features\n",
    "listing_seattle.describe()"
   ]
  },
  {
   "cell_type": "code",
   "execution_count": 10,
   "metadata": {},
   "outputs": [
    {
     "data": {
      "text/plain": [
       "Index(['id', 'listing_url', 'scrape_id', 'last_scraped', 'name', 'summary', 'space', 'description', 'experiences_offered', 'neighborhood_overview', 'notes', 'transit', 'thumbnail_url', 'medium_url', 'picture_url', 'xl_picture_url', 'host_id', 'host_url', 'host_name', 'host_since', 'host_location', 'host_about', 'host_response_time', 'host_response_rate', 'host_acceptance_rate', 'host_is_superhost', 'host_thumbnail_url', 'host_picture_url', 'host_neighbourhood', 'host_listings_count', 'host_total_listings_count', 'host_verifications', 'host_has_profile_pic', 'host_identity_verified', 'street', 'neighbourhood', 'neighbourhood_cleansed', 'neighbourhood_group_cleansed', 'city', 'state', 'zipcode', 'market', 'smart_location', 'country_code', 'country', 'latitude', 'longitude', 'is_location_exact', 'property_type', 'room_type', 'accommodates', 'bathrooms', 'bedrooms', 'beds', 'bed_type', 'amenities', 'square_feet', 'price', 'weekly_price', 'monthly_price', 'security_deposit',\n",
       "       'cleaning_fee', 'guests_included', 'extra_people', 'minimum_nights', 'maximum_nights', 'calendar_updated', 'has_availability', 'availability_30', 'availability_60', 'availability_90', 'availability_365', 'calendar_last_scraped', 'number_of_reviews', 'first_review', 'last_review', 'review_scores_rating', 'review_scores_accuracy', 'review_scores_cleanliness', 'review_scores_checkin', 'review_scores_communication', 'review_scores_location', 'review_scores_value', 'requires_license', 'license', 'jurisdiction_names', 'instant_bookable', 'cancellation_policy', 'require_guest_profile_picture', 'require_guest_phone_verification', 'calculated_host_listings_count', 'reviews_per_month'],\n",
       "      dtype='object')"
      ]
     },
     "execution_count": 10,
     "metadata": {},
     "output_type": "execute_result"
    }
   ],
   "source": [
    "#what are the columns\n",
    "listing_seattle.columns"
   ]
  },
  {
   "cell_type": "code",
   "execution_count": 11,
   "metadata": {},
   "outputs": [
    {
     "data": {
      "text/plain": [
       "True"
      ]
     },
     "execution_count": 11,
     "metadata": {},
     "output_type": "execute_result"
    }
   ],
   "source": [
    "#are the ids unique for each row?\n",
    "len(listing_seattle['id'].unique()) == len(listing_seattle)"
   ]
  },
  {
   "cell_type": "code",
   "execution_count": 12,
   "metadata": {},
   "outputs": [
    {
     "name": "stdout",
     "output_type": "stream",
     "text": [
      "\"listing_seattle.csv\" contains information about 3818 listings(properties), hosted by 2751 hosts\n"
     ]
    }
   ],
   "source": [
    "#find number of hosts and listings\n",
    "listing_count = len(listing_seattle['id'].unique())        #listing_seattle['id'].count() cnn also be used as each row contains information about unique listing\n",
    "host_count = len(listing_seattle['host_id'].unique())\n",
    "print(f'\"listing_seattle.csv\" contains information about {listing_count} listings(properties), hosted by {host_count} hosts')"
   ]
  },
  {
   "cell_type": "code",
   "execution_count": 13,
   "metadata": {},
   "outputs": [
    {
     "data": {
      "text/plain": [
       "license             3818\n",
       "square_feet         3721\n",
       "monthly_price       2301\n",
       "security_deposit    1952\n",
       "weekly_price        1809\n",
       "                    ... \n",
       "room_type              0\n",
       "accommodates           0\n",
       "bed_type               0\n",
       "amenities              0\n",
       "longitude              0\n",
       "Length: 92, dtype: int64"
      ]
     },
     "execution_count": 13,
     "metadata": {},
     "output_type": "execute_result"
    }
   ],
   "source": [
    "#number of missing values in each column\n",
    "listing_seattle_missing = listing_seattle.isnull().sum()\n",
    "listing_seattle_missing.sort_values(ascending=False)\n",
    "#license column is not of any use, we can discard it!"
   ]
  },
  {
   "cell_type": "code",
   "execution_count": 14,
   "metadata": {},
   "outputs": [
    {
     "data": {
      "image/png": "[encoded data removed]",
      "text/plain": [
       "<Figure size 1080x720 with 1 Axes>"
      ]
     },
     "metadata": {
      "needs_background": "light"
     },
     "output_type": "display_data"
    }
   ],
   "source": [
    "#percentage of missing values in each column\n",
    "listing_seattle_mp = listing_seattle.isnull().mean()*100\n",
    "\n",
    "#filter columns with missing values\n",
    "listing_seattle_mp_with_nan = listing_seattle_mp[listing_seattle_mp>0]\n",
    "\n",
    "#visualize result\n",
    "plt.figure(figsize=(15,10))\n",
    "listing_seattle_mp_with_nan.plot.bar(title=f'% of missing values per column', color=np.random.rand(len(listing_seattle_mp_with_nan),3))\n",
    "plt.xlabel('Features/Column Names')\n",
    "plt.ylabel('Percentage of NaNs')\n",
    "plt.show()"
   ]
  },
  {
   "cell_type": "markdown",
   "metadata": {},
   "source": [
    "> This shows that some calumns like **'square_feet', 'license', and 'notes'** have **very less data** to play around and that might hurt our analysis, so it would be better to **`drop such columns`** which have very little information that could affect price or other data analysis."
   ]
  },
  {
   "cell_type": "markdown",
   "metadata": {},
   "source": [
    "#### ***Overview of calendar.csv***"
   ]
  },
  {
   "cell_type": "code",
   "execution_count": 15,
   "metadata": {},
   "outputs": [
    {
     "name": "stdout",
     "output_type": "stream",
     "text": [
      "Shape of calendar csv is (1393570, 4)\n"
     ]
    }
   ],
   "source": [
    "#reading calendar.csv, and its shape\n",
    "calendar_seattle = pd.read_csv('calendar_seattle.csv')\n",
    "print(f\"Shape of calendar csv is {calendar_seattle.shape}\")"
   ]
  },
  {
   "cell_type": "markdown",
   "metadata": {},
   "source": [
    "##### ***Basic checks and high level data analysis of calendar.csv***"
   ]
  },
  {
   "cell_type": "code",
   "execution_count": 16,
   "metadata": {},
   "outputs": [
    {
     "data": {
      "text/html": [
       "<div>\n",
       "<style scoped>\n",
       "    .dataframe tbody tr th:only-of-type {\n",
       "        vertical-align: middle;\n",
       "    }\n",
       "\n",
       "    .dataframe tbody tr th {\n",
       "        vertical-align: top;\n",
       "    }\n",
       "\n",
       "    .dataframe thead th {\n",
       "        text-align: right;\n",
       "    }\n",
       "</style>\n",
       "<table border=\"1\" class=\"dataframe\">\n",
       "  <thead>\n",
       "    <tr style=\"text-align: right;\">\n",
       "      <th></th>\n",
       "      <th>listing_id</th>\n",
       "      <th>date</th>\n",
       "      <th>available</th>\n",
       "      <th>price</th>\n",
       "    </tr>\n",
       "  </thead>\n",
       "  <tbody>\n",
       "    <tr>\n",
       "      <th>0</th>\n",
       "      <td>241032</td>\n",
       "      <td>2016-01-04</td>\n",
       "      <td>t</td>\n",
       "      <td>$85.00</td>\n",
       "    </tr>\n",
       "    <tr>\n",
       "      <th>1</th>\n",
       "      <td>241032</td>\n",
       "      <td>2016-01-05</td>\n",
       "      <td>t</td>\n",
       "      <td>$85.00</td>\n",
       "    </tr>\n",
       "    <tr>\n",
       "      <th>2</th>\n",
       "      <td>241032</td>\n",
       "      <td>2016-01-06</td>\n",
       "      <td>f</td>\n",
       "      <td>NaN</td>\n",
       "    </tr>\n",
       "    <tr>\n",
       "      <th>3</th>\n",
       "      <td>241032</td>\n",
       "      <td>2016-01-07</td>\n",
       "      <td>f</td>\n",
       "      <td>NaN</td>\n",
       "    </tr>\n",
       "    <tr>\n",
       "      <th>4</th>\n",
       "      <td>241032</td>\n",
       "      <td>2016-01-08</td>\n",
       "      <td>f</td>\n",
       "      <td>NaN</td>\n",
       "    </tr>\n",
       "  </tbody>\n",
       "</table>\n",
       "</div>"
      ],
      "text/plain": [
       "   listing_id        date available   price\n",
       "0      241032  2016-01-04         t  $85.00\n",
       "1      241032  2016-01-05         t  $85.00\n",
       "2      241032  2016-01-06         f     NaN\n",
       "3      241032  2016-01-07         f     NaN\n",
       "4      241032  2016-01-08         f     NaN"
      ]
     },
     "execution_count": 16,
     "metadata": {},
     "output_type": "execute_result"
    }
   ],
   "source": [
    "#looking at the data\n",
    "calendar_seattle.head()"
   ]
  },
  {
   "cell_type": "code",
   "execution_count": 17,
   "metadata": {},
   "outputs": [
    {
     "data": {
      "text/plain": [
       "listing_id     int64\n",
       "date          object\n",
       "available     object\n",
       "price         object\n",
       "dtype: object"
      ]
     },
     "execution_count": 17,
     "metadata": {},
     "output_type": "execute_result"
    }
   ],
   "source": [
    "calendar_seattle.dtypes"
   ]
  },
  {
   "cell_type": "code",
   "execution_count": 18,
   "metadata": {},
   "outputs": [
    {
     "name": "stdout",
     "output_type": "stream",
     "text": [
      "241032      365\n",
      "9299824     365\n",
      "8597687     365\n",
      "2309250     365\n",
      "7420339     365\n",
      "           ... \n",
      "4243163     365\n",
      "4569115     365\n",
      "4464824     365\n",
      "9258513     365\n",
      "10208623    365\n",
      "Name: listing_id, Length: 3818, dtype: int64\n",
      "Number of listings which have less than 365 rows 0\n"
     ]
    }
   ],
   "source": [
    "#number of rows(entries) for each listing_id\n",
    "print(calendar_seattle['listing_id'].value_counts())\n",
    "\n",
    "#check if any listing_id had less than 365 days of data\n",
    "less_365 = sum(list(calendar_seattle['listing_id'].value_counts()<365))\n",
    "print(f'Number of listings which have less than 365 rows {less_365}')"
   ]
  },
  {
   "cell_type": "markdown",
   "metadata": {},
   "source": [
    "Are the number of listings in both datasets same?"
   ]
  },
  {
   "cell_type": "code",
   "execution_count": 19,
   "metadata": {},
   "outputs": [
    {
     "data": {
      "text/plain": [
       "True"
      ]
     },
     "execution_count": 19,
     "metadata": {},
     "output_type": "execute_result"
    }
   ],
   "source": [
    "#make sure your number of listings are same in calendar.csv and listings.csv\n",
    "len(listing_seattle) == len(calendar_seattle)//365"
   ]
  },
  {
   "cell_type": "code",
   "execution_count": 20,
   "metadata": {},
   "outputs": [
    {
     "name": "stdout",
     "output_type": "stream",
     "text": [
      "Number of rows in calendar.csv are 1393570\n",
      "First date of observation is 2016-01-04 and the last date is 2017-01-02\n"
     ]
    }
   ],
   "source": [
    "#information\n",
    "rows_num = calendar_seattle.shape[0]\n",
    "print(f'Number of rows in calendar.csv are {rows_num}')\n",
    "\n",
    "#find first and last day of the calendar\n",
    "min_date = calendar_seattle['date'].min()\n",
    "max_date = calendar_seattle['date'].max()\n",
    "print(f'First date of observation is {min_date} and the last date is {max_date}')"
   ]
  },
  {
   "cell_type": "code",
   "execution_count": 21,
   "metadata": {},
   "outputs": [
    {
     "name": "stdout",
     "output_type": "stream",
     "text": [
      "Maximum number of NaNs are present in \"price\" column, which is about 33%\n"
     ]
    }
   ],
   "source": [
    "#number of missing values in each column\n",
    "calendar_seattle_missing = calendar_seattle.isnull().sum()\n",
    "max_nan_calendar = list(dict(calendar_seattle_missing.sort_values(ascending=False)).keys())[0]\n",
    "max_nan_calendar_p = round(max(calendar_seattle.isnull().mean()*100))\n",
    "print(f'Maximum number of NaNs are present in \"{max_nan_calendar}\" column, which is about {max_nan_calendar_p}%')"
   ]
  },
  {
   "cell_type": "code",
   "execution_count": 22,
   "metadata": {},
   "outputs": [
    {
     "data": {
      "image/png": "[encoded data removed]",
      "text/plain": [
       "<Figure size 504x504 with 1 Axes>"
      ]
     },
     "metadata": {
      "needs_background": "light"
     },
     "output_type": "display_data"
    }
   ],
   "source": [
    "#percentage of missing values in each column\n",
    "calendar_seattle_mp = calendar_seattle.isnull().mean()*100\n",
    "\n",
    "#visualize result\n",
    "plt.figure(figsize=(7,7))\n",
    "calendar_seattle_mp.plot.bar(title='% of missing values per column')\n",
    "plt.xlabel('Features/Column Names')\n",
    "plt.ylabel('Percentage of NaNs')\n",
    "plt.show()"
   ]
  },
  {
   "cell_type": "markdown",
   "metadata": {},
   "source": [
    ">Thus there are only **33% of NaNs in price column**.<br>\n",
    "That also indicates that, on an average only **33% of the listings were occupied** thoughout the year among all 365 days of all listings<br> "
   ]
  },
  {
   "cell_type": "markdown",
   "metadata": {},
   "source": [
    "## **Data Preparation**"
   ]
  },
  {
   "cell_type": "markdown",
   "metadata": {},
   "source": [
    "#### **Merge** the listing and calendar csv, and **Clean** the final dataframe"
   ]
  },
  {
   "cell_type": "code",
   "execution_count": 23,
   "metadata": {},
   "outputs": [],
   "source": [
    "#rename the 'id' column in listing.csv to 'listing_id'\n",
    "listing_seattle = listing_seattle.rename(index=str, columns = {'id':'listing_id'})"
   ]
  },
  {
   "cell_type": "code",
   "execution_count": 24,
   "metadata": {},
   "outputs": [],
   "source": [
    "#now we can merge our datasets based on listing_id\n",
    "df = pd.merge(calendar_seattle, listing_seattle, on='listing_id')"
   ]
  },
  {
   "cell_type": "code",
   "execution_count": 25,
   "metadata": {},
   "outputs": [
    {
     "data": {
      "text/html": [
       "<div>\n",
       "<style scoped>\n",
       "    .dataframe tbody tr th:only-of-type {\n",
       "        vertical-align: middle;\n",
       "    }\n",
       "\n",
       "    .dataframe tbody tr th {\n",
       "        vertical-align: top;\n",
       "    }\n",
       "\n",
       "    .dataframe thead th {\n",
       "        text-align: right;\n",
       "    }\n",
       "</style>\n",
       "<table border=\"1\" class=\"dataframe\">\n",
       "  <thead>\n",
       "    <tr style=\"text-align: right;\">\n",
       "      <th></th>\n",
       "      <th>listing_id</th>\n",
       "      <th>date</th>\n",
       "      <th>available</th>\n",
       "      <th>price_x</th>\n",
       "      <th>listing_url</th>\n",
       "      <th>scrape_id</th>\n",
       "      <th>last_scraped</th>\n",
       "      <th>name</th>\n",
       "      <th>summary</th>\n",
       "      <th>space</th>\n",
       "      <th>description</th>\n",
       "      <th>experiences_offered</th>\n",
       "      <th>neighborhood_overview</th>\n",
       "      <th>notes</th>\n",
       "      <th>transit</th>\n",
       "      <th>thumbnail_url</th>\n",
       "      <th>medium_url</th>\n",
       "      <th>picture_url</th>\n",
       "      <th>xl_picture_url</th>\n",
       "      <th>host_id</th>\n",
       "      <th>host_url</th>\n",
       "      <th>host_name</th>\n",
       "      <th>host_since</th>\n",
       "      <th>host_location</th>\n",
       "      <th>host_about</th>\n",
       "      <th>host_response_time</th>\n",
       "      <th>host_response_rate</th>\n",
       "      <th>host_acceptance_rate</th>\n",
       "      <th>host_is_superhost</th>\n",
       "      <th>host_thumbnail_url</th>\n",
       "      <th>host_picture_url</th>\n",
       "      <th>host_neighbourhood</th>\n",
       "      <th>host_listings_count</th>\n",
       "      <th>host_total_listings_count</th>\n",
       "      <th>host_verifications</th>\n",
       "      <th>host_has_profile_pic</th>\n",
       "      <th>host_identity_verified</th>\n",
       "      <th>street</th>\n",
       "      <th>neighbourhood</th>\n",
       "      <th>neighbourhood_cleansed</th>\n",
       "      <th>neighbourhood_group_cleansed</th>\n",
       "      <th>city</th>\n",
       "      <th>state</th>\n",
       "      <th>zipcode</th>\n",
       "      <th>market</th>\n",
       "      <th>smart_location</th>\n",
       "      <th>country_code</th>\n",
       "      <th>country</th>\n",
       "      <th>latitude</th>\n",
       "      <th>longitude</th>\n",
       "      <th>is_location_exact</th>\n",
       "      <th>property_type</th>\n",
       "      <th>room_type</th>\n",
       "      <th>accommodates</th>\n",
       "      <th>bathrooms</th>\n",
       "      <th>bedrooms</th>\n",
       "      <th>beds</th>\n",
       "      <th>bed_type</th>\n",
       "      <th>amenities</th>\n",
       "      <th>square_feet</th>\n",
       "      <th>price_y</th>\n",
       "      <th>weekly_price</th>\n",
       "      <th>monthly_price</th>\n",
       "      <th>security_deposit</th>\n",
       "      <th>cleaning_fee</th>\n",
       "      <th>guests_included</th>\n",
       "      <th>extra_people</th>\n",
       "      <th>minimum_nights</th>\n",
       "      <th>maximum_nights</th>\n",
       "      <th>calendar_updated</th>\n",
       "      <th>has_availability</th>\n",
       "      <th>availability_30</th>\n",
       "      <th>availability_60</th>\n",
       "      <th>availability_90</th>\n",
       "      <th>availability_365</th>\n",
       "      <th>calendar_last_scraped</th>\n",
       "      <th>number_of_reviews</th>\n",
       "      <th>first_review</th>\n",
       "      <th>last_review</th>\n",
       "      <th>review_scores_rating</th>\n",
       "      <th>review_scores_accuracy</th>\n",
       "      <th>review_scores_cleanliness</th>\n",
       "      <th>review_scores_checkin</th>\n",
       "      <th>review_scores_communication</th>\n",
       "      <th>review_scores_location</th>\n",
       "      <th>review_scores_value</th>\n",
       "      <th>requires_license</th>\n",
       "      <th>license</th>\n",
       "      <th>jurisdiction_names</th>\n",
       "      <th>instant_bookable</th>\n",
       "      <th>cancellation_policy</th>\n",
       "      <th>require_guest_profile_picture</th>\n",
       "      <th>require_guest_phone_verification</th>\n",
       "      <th>calculated_host_listings_count</th>\n",
       "      <th>reviews_per_month</th>\n",
       "    </tr>\n",
       "  </thead>\n",
       "  <tbody>\n",
       "    <tr>\n",
       "      <th>0</th>\n",
       "      <td>241032</td>\n",
       "      <td>2016-01-04</td>\n",
       "      <td>t</td>\n",
       "      <td>$85.00</td>\n",
       "      <td>https://www.airbnb.com/rooms/241032</td>\n",
       "      <td>20160104002432</td>\n",
       "      <td>2016-01-04</td>\n",
       "      <td>Stylish Queen Anne Apartment</td>\n",
       "      <td>NaN</td>\n",
       "      <td>Make your self at home in this charming one-be...</td>\n",
       "      <td>Make your self at home in this charming one-be...</td>\n",
       "      <td>none</td>\n",
       "      <td>NaN</td>\n",
       "      <td>NaN</td>\n",
       "      <td>NaN</td>\n",
       "      <td>NaN</td>\n",
       "      <td>NaN</td>\n",
       "      <td>https://a1.muscache.com/ac/pictures/67560560/c...</td>\n",
       "      <td>NaN</td>\n",
       "      <td>956883</td>\n",
       "      <td>https://www.airbnb.com/users/show/956883</td>\n",
       "      <td>Maija</td>\n",
       "      <td>2011-08-11</td>\n",
       "      <td>Seattle, Washington, United States</td>\n",
       "      <td>I am an artist, interior designer, and run a s...</td>\n",
       "      <td>within a few hours</td>\n",
       "      <td>96%</td>\n",
       "      <td>100%</td>\n",
       "      <td>f</td>\n",
       "      <td>https://a0.muscache.com/ac/users/956883/profil...</td>\n",
       "      <td>https://a0.muscache.com/ac/users/956883/profil...</td>\n",
       "      <td>Queen Anne</td>\n",
       "      <td>3.0</td>\n",
       "      <td>3.0</td>\n",
       "      <td>['email', 'phone', 'reviews', 'kba']</td>\n",
       "      <td>t</td>\n",
       "      <td>t</td>\n",
       "      <td>Gilman Dr W, Seattle, WA 98119, United States</td>\n",
       "      <td>Queen Anne</td>\n",
       "      <td>West Queen Anne</td>\n",
       "      <td>Queen Anne</td>\n",
       "      <td>Seattle</td>\n",
       "      <td>WA</td>\n",
       "      <td>98119</td>\n",
       "      <td>Seattle</td>\n",
       "      <td>Seattle, WA</td>\n",
       "      <td>US</td>\n",
       "      <td>United States</td>\n",
       "      <td>47.636289</td>\n",
       "      <td>-122.371025</td>\n",
       "      <td>t</td>\n",
       "      <td>Apartment</td>\n",
       "      <td>Entire home/apt</td>\n",
       "      <td>4</td>\n",
       "      <td>1.0</td>\n",
       "      <td>1.0</td>\n",
       "      <td>1.0</td>\n",
       "      <td>Real Bed</td>\n",
       "      <td>{TV,\"Cable TV\",Internet,\"Wireless Internet\",\"A...</td>\n",
       "      <td>NaN</td>\n",
       "      <td>$85.00</td>\n",
       "      <td>NaN</td>\n",
       "      <td>NaN</td>\n",
       "      <td>NaN</td>\n",
       "      <td>NaN</td>\n",
       "      <td>2</td>\n",
       "      <td>$5.00</td>\n",
       "      <td>1</td>\n",
       "      <td>365</td>\n",
       "      <td>4 weeks ago</td>\n",
       "      <td>t</td>\n",
       "      <td>14</td>\n",
       "      <td>41</td>\n",
       "      <td>71</td>\n",
       "      <td>346</td>\n",
       "      <td>2016-01-04</td>\n",
       "      <td>207</td>\n",
       "      <td>2011-11-01</td>\n",
       "      <td>2016-01-02</td>\n",
       "      <td>95.0</td>\n",
       "      <td>10.0</td>\n",
       "      <td>10.0</td>\n",
       "      <td>10.0</td>\n",
       "      <td>10.0</td>\n",
       "      <td>9.0</td>\n",
       "      <td>10.0</td>\n",
       "      <td>f</td>\n",
       "      <td>NaN</td>\n",
       "      <td>WASHINGTON</td>\n",
       "      <td>f</td>\n",
       "      <td>moderate</td>\n",
       "      <td>f</td>\n",
       "      <td>f</td>\n",
       "      <td>2</td>\n",
       "      <td>4.07</td>\n",
       "    </tr>\n",
       "    <tr>\n",
       "      <th>1</th>\n",
       "      <td>241032</td>\n",
       "      <td>2016-01-05</td>\n",
       "      <td>t</td>\n",
       "      <td>$85.00</td>\n",
       "      <td>https://www.airbnb.com/rooms/241032</td>\n",
       "      <td>20160104002432</td>\n",
       "      <td>2016-01-04</td>\n",
       "      <td>Stylish Queen Anne Apartment</td>\n",
       "      <td>NaN</td>\n",
       "      <td>Make your self at home in this charming one-be...</td>\n",
       "      <td>Make your self at home in this charming one-be...</td>\n",
       "      <td>none</td>\n",
       "      <td>NaN</td>\n",
       "      <td>NaN</td>\n",
       "      <td>NaN</td>\n",
       "      <td>NaN</td>\n",
       "      <td>NaN</td>\n",
       "      <td>https://a1.muscache.com/ac/pictures/67560560/c...</td>\n",
       "      <td>NaN</td>\n",
       "      <td>956883</td>\n",
       "      <td>https://www.airbnb.com/users/show/956883</td>\n",
       "      <td>Maija</td>\n",
       "      <td>2011-08-11</td>\n",
       "      <td>Seattle, Washington, United States</td>\n",
       "      <td>I am an artist, interior designer, and run a s...</td>\n",
       "      <td>within a few hours</td>\n",
       "      <td>96%</td>\n",
       "      <td>100%</td>\n",
       "      <td>f</td>\n",
       "      <td>https://a0.muscache.com/ac/users/956883/profil...</td>\n",
       "      <td>https://a0.muscache.com/ac/users/956883/profil...</td>\n",
       "      <td>Queen Anne</td>\n",
       "      <td>3.0</td>\n",
       "      <td>3.0</td>\n",
       "      <td>['email', 'phone', 'reviews', 'kba']</td>\n",
       "      <td>t</td>\n",
       "      <td>t</td>\n",
       "      <td>Gilman Dr W, Seattle, WA 98119, United States</td>\n",
       "      <td>Queen Anne</td>\n",
       "      <td>West Queen Anne</td>\n",
       "      <td>Queen Anne</td>\n",
       "      <td>Seattle</td>\n",
       "      <td>WA</td>\n",
       "      <td>98119</td>\n",
       "      <td>Seattle</td>\n",
       "      <td>Seattle, WA</td>\n",
       "      <td>US</td>\n",
       "      <td>United States</td>\n",
       "      <td>47.636289</td>\n",
       "      <td>-122.371025</td>\n",
       "      <td>t</td>\n",
       "      <td>Apartment</td>\n",
       "      <td>Entire home/apt</td>\n",
       "      <td>4</td>\n",
       "      <td>1.0</td>\n",
       "      <td>1.0</td>\n",
       "      <td>1.0</td>\n",
       "      <td>Real Bed</td>\n",
       "      <td>{TV,\"Cable TV\",Internet,\"Wireless Internet\",\"A...</td>\n",
       "      <td>NaN</td>\n",
       "      <td>$85.00</td>\n",
       "      <td>NaN</td>\n",
       "      <td>NaN</td>\n",
       "      <td>NaN</td>\n",
       "      <td>NaN</td>\n",
       "      <td>2</td>\n",
       "      <td>$5.00</td>\n",
       "      <td>1</td>\n",
       "      <td>365</td>\n",
       "      <td>4 weeks ago</td>\n",
       "      <td>t</td>\n",
       "      <td>14</td>\n",
       "      <td>41</td>\n",
       "      <td>71</td>\n",
       "      <td>346</td>\n",
       "      <td>2016-01-04</td>\n",
       "      <td>207</td>\n",
       "      <td>2011-11-01</td>\n",
       "      <td>2016-01-02</td>\n",
       "      <td>95.0</td>\n",
       "      <td>10.0</td>\n",
       "      <td>10.0</td>\n",
       "      <td>10.0</td>\n",
       "      <td>10.0</td>\n",
       "      <td>9.0</td>\n",
       "      <td>10.0</td>\n",
       "      <td>f</td>\n",
       "      <td>NaN</td>\n",
       "      <td>WASHINGTON</td>\n",
       "      <td>f</td>\n",
       "      <td>moderate</td>\n",
       "      <td>f</td>\n",
       "      <td>f</td>\n",
       "      <td>2</td>\n",
       "      <td>4.07</td>\n",
       "    </tr>\n",
       "    <tr>\n",
       "      <th>2</th>\n",
       "      <td>241032</td>\n",
       "      <td>2016-01-06</td>\n",
       "      <td>f</td>\n",
       "      <td>NaN</td>\n",
       "      <td>https://www.airbnb.com/rooms/241032</td>\n",
       "      <td>20160104002432</td>\n",
       "      <td>2016-01-04</td>\n",
       "      <td>Stylish Queen Anne Apartment</td>\n",
       "      <td>NaN</td>\n",
       "      <td>Make your self at home in this charming one-be...</td>\n",
       "      <td>Make your self at home in this charming one-be...</td>\n",
       "      <td>none</td>\n",
       "      <td>NaN</td>\n",
       "      <td>NaN</td>\n",
       "      <td>NaN</td>\n",
       "      <td>NaN</td>\n",
       "      <td>NaN</td>\n",
       "      <td>https://a1.muscache.com/ac/pictures/67560560/c...</td>\n",
       "      <td>NaN</td>\n",
       "      <td>956883</td>\n",
       "      <td>https://www.airbnb.com/users/show/956883</td>\n",
       "      <td>Maija</td>\n",
       "      <td>2011-08-11</td>\n",
       "      <td>Seattle, Washington, United States</td>\n",
       "      <td>I am an artist, interior designer, and run a s...</td>\n",
       "      <td>within a few hours</td>\n",
       "      <td>96%</td>\n",
       "      <td>100%</td>\n",
       "      <td>f</td>\n",
       "      <td>https://a0.muscache.com/ac/users/956883/profil...</td>\n",
       "      <td>https://a0.muscache.com/ac/users/956883/profil...</td>\n",
       "      <td>Queen Anne</td>\n",
       "      <td>3.0</td>\n",
       "      <td>3.0</td>\n",
       "      <td>['email', 'phone', 'reviews', 'kba']</td>\n",
       "      <td>t</td>\n",
       "      <td>t</td>\n",
       "      <td>Gilman Dr W, Seattle, WA 98119, United States</td>\n",
       "      <td>Queen Anne</td>\n",
       "      <td>West Queen Anne</td>\n",
       "      <td>Queen Anne</td>\n",
       "      <td>Seattle</td>\n",
       "      <td>WA</td>\n",
       "      <td>98119</td>\n",
       "      <td>Seattle</td>\n",
       "      <td>Seattle, WA</td>\n",
       "      <td>US</td>\n",
       "      <td>United States</td>\n",
       "      <td>47.636289</td>\n",
       "      <td>-122.371025</td>\n",
       "      <td>t</td>\n",
       "      <td>Apartment</td>\n",
       "      <td>Entire home/apt</td>\n",
       "      <td>4</td>\n",
       "      <td>1.0</td>\n",
       "      <td>1.0</td>\n",
       "      <td>1.0</td>\n",
       "      <td>Real Bed</td>\n",
       "      <td>{TV,\"Cable TV\",Internet,\"Wireless Internet\",\"A...</td>\n",
       "      <td>NaN</td>\n",
       "      <td>$85.00</td>\n",
       "      <td>NaN</td>\n",
       "      <td>NaN</td>\n",
       "      <td>NaN</td>\n",
       "      <td>NaN</td>\n",
       "      <td>2</td>\n",
       "      <td>$5.00</td>\n",
       "      <td>1</td>\n",
       "      <td>365</td>\n",
       "      <td>4 weeks ago</td>\n",
       "      <td>t</td>\n",
       "      <td>14</td>\n",
       "      <td>41</td>\n",
       "      <td>71</td>\n",
       "      <td>346</td>\n",
       "      <td>2016-01-04</td>\n",
       "      <td>207</td>\n",
       "      <td>2011-11-01</td>\n",
       "      <td>2016-01-02</td>\n",
       "      <td>95.0</td>\n",
       "      <td>10.0</td>\n",
       "      <td>10.0</td>\n",
       "      <td>10.0</td>\n",
       "      <td>10.0</td>\n",
       "      <td>9.0</td>\n",
       "      <td>10.0</td>\n",
       "      <td>f</td>\n",
       "      <td>NaN</td>\n",
       "      <td>WASHINGTON</td>\n",
       "      <td>f</td>\n",
       "      <td>moderate</td>\n",
       "      <td>f</td>\n",
       "      <td>f</td>\n",
       "      <td>2</td>\n",
       "      <td>4.07</td>\n",
       "    </tr>\n",
       "    <tr>\n",
       "      <th>3</th>\n",
       "      <td>241032</td>\n",
       "      <td>2016-01-07</td>\n",
       "      <td>f</td>\n",
       "      <td>NaN</td>\n",
       "      <td>https://www.airbnb.com/rooms/241032</td>\n",
       "      <td>20160104002432</td>\n",
       "      <td>2016-01-04</td>\n",
       "      <td>Stylish Queen Anne Apartment</td>\n",
       "      <td>NaN</td>\n",
       "      <td>Make your self at home in this charming one-be...</td>\n",
       "      <td>Make your self at home in this charming one-be...</td>\n",
       "      <td>none</td>\n",
       "      <td>NaN</td>\n",
       "      <td>NaN</td>\n",
       "      <td>NaN</td>\n",
       "      <td>NaN</td>\n",
       "      <td>NaN</td>\n",
       "      <td>https://a1.muscache.com/ac/pictures/67560560/c...</td>\n",
       "      <td>NaN</td>\n",
       "      <td>956883</td>\n",
       "      <td>https://www.airbnb.com/users/show/956883</td>\n",
       "      <td>Maija</td>\n",
       "      <td>2011-08-11</td>\n",
       "      <td>Seattle, Washington, United States</td>\n",
       "      <td>I am an artist, interior designer, and run a s...</td>\n",
       "      <td>within a few hours</td>\n",
       "      <td>96%</td>\n",
       "      <td>100%</td>\n",
       "      <td>f</td>\n",
       "      <td>https://a0.muscache.com/ac/users/956883/profil...</td>\n",
       "      <td>https://a0.muscache.com/ac/users/956883/profil...</td>\n",
       "      <td>Queen Anne</td>\n",
       "      <td>3.0</td>\n",
       "      <td>3.0</td>\n",
       "      <td>['email', 'phone', 'reviews', 'kba']</td>\n",
       "      <td>t</td>\n",
       "      <td>t</td>\n",
       "      <td>Gilman Dr W, Seattle, WA 98119, United States</td>\n",
       "      <td>Queen Anne</td>\n",
       "      <td>West Queen Anne</td>\n",
       "      <td>Queen Anne</td>\n",
       "      <td>Seattle</td>\n",
       "      <td>WA</td>\n",
       "      <td>98119</td>\n",
       "      <td>Seattle</td>\n",
       "      <td>Seattle, WA</td>\n",
       "      <td>US</td>\n",
       "      <td>United States</td>\n",
       "      <td>47.636289</td>\n",
       "      <td>-122.371025</td>\n",
       "      <td>t</td>\n",
       "      <td>Apartment</td>\n",
       "      <td>Entire home/apt</td>\n",
       "      <td>4</td>\n",
       "      <td>1.0</td>\n",
       "      <td>1.0</td>\n",
       "      <td>1.0</td>\n",
       "      <td>Real Bed</td>\n",
       "      <td>{TV,\"Cable TV\",Internet,\"Wireless Internet\",\"A...</td>\n",
       "      <td>NaN</td>\n",
       "      <td>$85.00</td>\n",
       "      <td>NaN</td>\n",
       "      <td>NaN</td>\n",
       "      <td>NaN</td>\n",
       "      <td>NaN</td>\n",
       "      <td>2</td>\n",
       "      <td>$5.00</td>\n",
       "      <td>1</td>\n",
       "      <td>365</td>\n",
       "      <td>4 weeks ago</td>\n",
       "      <td>t</td>\n",
       "      <td>14</td>\n",
       "      <td>41</td>\n",
       "      <td>71</td>\n",
       "      <td>346</td>\n",
       "      <td>2016-01-04</td>\n",
       "      <td>207</td>\n",
       "      <td>2011-11-01</td>\n",
       "      <td>2016-01-02</td>\n",
       "      <td>95.0</td>\n",
       "      <td>10.0</td>\n",
       "      <td>10.0</td>\n",
       "      <td>10.0</td>\n",
       "      <td>10.0</td>\n",
       "      <td>9.0</td>\n",
       "      <td>10.0</td>\n",
       "      <td>f</td>\n",
       "      <td>NaN</td>\n",
       "      <td>WASHINGTON</td>\n",
       "      <td>f</td>\n",
       "      <td>moderate</td>\n",
       "      <td>f</td>\n",
       "      <td>f</td>\n",
       "      <td>2</td>\n",
       "      <td>4.07</td>\n",
       "    </tr>\n",
       "    <tr>\n",
       "      <th>4</th>\n",
       "      <td>241032</td>\n",
       "      <td>2016-01-08</td>\n",
       "      <td>f</td>\n",
       "      <td>NaN</td>\n",
       "      <td>https://www.airbnb.com/rooms/241032</td>\n",
       "      <td>20160104002432</td>\n",
       "      <td>2016-01-04</td>\n",
       "      <td>Stylish Queen Anne Apartment</td>\n",
       "      <td>NaN</td>\n",
       "      <td>Make your self at home in this charming one-be...</td>\n",
       "      <td>Make your self at home in this charming one-be...</td>\n",
       "      <td>none</td>\n",
       "      <td>NaN</td>\n",
       "      <td>NaN</td>\n",
       "      <td>NaN</td>\n",
       "      <td>NaN</td>\n",
       "      <td>NaN</td>\n",
       "      <td>https://a1.muscache.com/ac/pictures/67560560/c...</td>\n",
       "      <td>NaN</td>\n",
       "      <td>956883</td>\n",
       "      <td>https://www.airbnb.com/users/show/956883</td>\n",
       "      <td>Maija</td>\n",
       "      <td>2011-08-11</td>\n",
       "      <td>Seattle, Washington, United States</td>\n",
       "      <td>I am an artist, interior designer, and run a s...</td>\n",
       "      <td>within a few hours</td>\n",
       "      <td>96%</td>\n",
       "      <td>100%</td>\n",
       "      <td>f</td>\n",
       "      <td>https://a0.muscache.com/ac/users/956883/profil...</td>\n",
       "      <td>https://a0.muscache.com/ac/users/956883/profil...</td>\n",
       "      <td>Queen Anne</td>\n",
       "      <td>3.0</td>\n",
       "      <td>3.0</td>\n",
       "      <td>['email', 'phone', 'reviews', 'kba']</td>\n",
       "      <td>t</td>\n",
       "      <td>t</td>\n",
       "      <td>Gilman Dr W, Seattle, WA 98119, United States</td>\n",
       "      <td>Queen Anne</td>\n",
       "      <td>West Queen Anne</td>\n",
       "      <td>Queen Anne</td>\n",
       "      <td>Seattle</td>\n",
       "      <td>WA</td>\n",
       "      <td>98119</td>\n",
       "      <td>Seattle</td>\n",
       "      <td>Seattle, WA</td>\n",
       "      <td>US</td>\n",
       "      <td>United States</td>\n",
       "      <td>47.636289</td>\n",
       "      <td>-122.371025</td>\n",
       "      <td>t</td>\n",
       "      <td>Apartment</td>\n",
       "      <td>Entire home/apt</td>\n",
       "      <td>4</td>\n",
       "      <td>1.0</td>\n",
       "      <td>1.0</td>\n",
       "      <td>1.0</td>\n",
       "      <td>Real Bed</td>\n",
       "      <td>{TV,\"Cable TV\",Internet,\"Wireless Internet\",\"A...</td>\n",
       "      <td>NaN</td>\n",
       "      <td>$85.00</td>\n",
       "      <td>NaN</td>\n",
       "      <td>NaN</td>\n",
       "      <td>NaN</td>\n",
       "      <td>NaN</td>\n",
       "      <td>2</td>\n",
       "      <td>$5.00</td>\n",
       "      <td>1</td>\n",
       "      <td>365</td>\n",
       "      <td>4 weeks ago</td>\n",
       "      <td>t</td>\n",
       "      <td>14</td>\n",
       "      <td>41</td>\n",
       "      <td>71</td>\n",
       "      <td>346</td>\n",
       "      <td>2016-01-04</td>\n",
       "      <td>207</td>\n",
       "      <td>2011-11-01</td>\n",
       "      <td>2016-01-02</td>\n",
       "      <td>95.0</td>\n",
       "      <td>10.0</td>\n",
       "      <td>10.0</td>\n",
       "      <td>10.0</td>\n",
       "      <td>10.0</td>\n",
       "      <td>9.0</td>\n",
       "      <td>10.0</td>\n",
       "      <td>f</td>\n",
       "      <td>NaN</td>\n",
       "      <td>WASHINGTON</td>\n",
       "      <td>f</td>\n",
       "      <td>moderate</td>\n",
       "      <td>f</td>\n",
       "      <td>f</td>\n",
       "      <td>2</td>\n",
       "      <td>4.07</td>\n",
       "    </tr>\n",
       "  </tbody>\n",
       "</table>\n",
       "</div>"
      ],
      "text/plain": [
       "   listing_id        date available price_x                          listing_url       scrape_id last_scraped                          name summary                                              space                                        description experiences_offered neighborhood_overview notes transit thumbnail_url medium_url                                        picture_url xl_picture_url  host_id                                  host_url host_name  host_since                       host_location                                         host_about  host_response_time host_response_rate host_acceptance_rate host_is_superhost                                 host_thumbnail_url                                   host_picture_url host_neighbourhood  host_listings_count  host_total_listings_count                    host_verifications host_has_profile_pic host_identity_verified                                         street neighbourhood neighbourhood_cleansed  \\\n",
       "0      241032  2016-01-04         t  $85.00  https://www.airbnb.com/rooms/241032  20160104002432   2016-01-04  Stylish Queen Anne Apartment     NaN  Make your self at home in this charming one-be...  Make your self at home in this charming one-be...                none                   NaN   NaN     NaN           NaN        NaN  https://a1.muscache.com/ac/pictures/67560560/c...            NaN   956883  https://www.airbnb.com/users/show/956883     Maija  2011-08-11  Seattle, Washington, United States  I am an artist, interior designer, and run a s...  within a few hours                96%                 100%                 f  https://a0.muscache.com/ac/users/956883/profil...  https://a0.muscache.com/ac/users/956883/profil...         Queen Anne                  3.0                        3.0  ['email', 'phone', 'reviews', 'kba']                    t                      t  Gilman Dr W, Seattle, WA 98119, United States    Queen Anne        West Queen Anne   \n",
       "1      241032  2016-01-05         t  $85.00  https://www.airbnb.com/rooms/241032  20160104002432   2016-01-04  Stylish Queen Anne Apartment     NaN  Make your self at home in this charming one-be...  Make your self at home in this charming one-be...                none                   NaN   NaN     NaN           NaN        NaN  https://a1.muscache.com/ac/pictures/67560560/c...            NaN   956883  https://www.airbnb.com/users/show/956883     Maija  2011-08-11  Seattle, Washington, United States  I am an artist, interior designer, and run a s...  within a few hours                96%                 100%                 f  https://a0.muscache.com/ac/users/956883/profil...  https://a0.muscache.com/ac/users/956883/profil...         Queen Anne                  3.0                        3.0  ['email', 'phone', 'reviews', 'kba']                    t                      t  Gilman Dr W, Seattle, WA 98119, United States    Queen Anne        West Queen Anne   \n",
       "2      241032  2016-01-06         f     NaN  https://www.airbnb.com/rooms/241032  20160104002432   2016-01-04  Stylish Queen Anne Apartment     NaN  Make your self at home in this charming one-be...  Make your self at home in this charming one-be...                none                   NaN   NaN     NaN           NaN        NaN  https://a1.muscache.com/ac/pictures/67560560/c...            NaN   956883  https://www.airbnb.com/users/show/956883     Maija  2011-08-11  Seattle, Washington, United States  I am an artist, interior designer, and run a s...  within a few hours                96%                 100%                 f  https://a0.muscache.com/ac/users/956883/profil...  https://a0.muscache.com/ac/users/956883/profil...         Queen Anne                  3.0                        3.0  ['email', 'phone', 'reviews', 'kba']                    t                      t  Gilman Dr W, Seattle, WA 98119, United States    Queen Anne        West Queen Anne   \n",
       "3      241032  2016-01-07         f     NaN  https://www.airbnb.com/rooms/241032  20160104002432   2016-01-04  Stylish Queen Anne Apartment     NaN  Make your self at home in this charming one-be...  Make your self at home in this charming one-be...                none                   NaN   NaN     NaN           NaN        NaN  https://a1.muscache.com/ac/pictures/67560560/c...            NaN   956883  https://www.airbnb.com/users/show/956883     Maija  2011-08-11  Seattle, Washington, United States  I am an artist, interior designer, and run a s...  within a few hours                96%                 100%                 f  https://a0.muscache.com/ac/users/956883/profil...  https://a0.muscache.com/ac/users/956883/profil...         Queen Anne                  3.0                        3.0  ['email', 'phone', 'reviews', 'kba']                    t                      t  Gilman Dr W, Seattle, WA 98119, United States    Queen Anne        West Queen Anne   \n",
       "4      241032  2016-01-08         f     NaN  https://www.airbnb.com/rooms/241032  20160104002432   2016-01-04  Stylish Queen Anne Apartment     NaN  Make your self at home in this charming one-be...  Make your self at home in this charming one-be...                none                   NaN   NaN     NaN           NaN        NaN  https://a1.muscache.com/ac/pictures/67560560/c...            NaN   956883  https://www.airbnb.com/users/show/956883     Maija  2011-08-11  Seattle, Washington, United States  I am an artist, interior designer, and run a s...  within a few hours                96%                 100%                 f  https://a0.muscache.com/ac/users/956883/profil...  https://a0.muscache.com/ac/users/956883/profil...         Queen Anne                  3.0                        3.0  ['email', 'phone', 'reviews', 'kba']                    t                      t  Gilman Dr W, Seattle, WA 98119, United States    Queen Anne        West Queen Anne   \n",
       "\n",
       "  neighbourhood_group_cleansed     city state zipcode   market smart_location country_code        country   latitude   longitude is_location_exact property_type        room_type  accommodates  bathrooms  bedrooms  beds  bed_type                                          amenities  square_feet price_y weekly_price monthly_price security_deposit cleaning_fee  guests_included extra_people  minimum_nights  maximum_nights calendar_updated has_availability  availability_30  availability_60  availability_90  availability_365 calendar_last_scraped  number_of_reviews first_review last_review  review_scores_rating  review_scores_accuracy  review_scores_cleanliness  review_scores_checkin  review_scores_communication  review_scores_location  review_scores_value requires_license  license jurisdiction_names instant_bookable cancellation_policy require_guest_profile_picture require_guest_phone_verification  calculated_host_listings_count  reviews_per_month  \n",
       "0                   Queen Anne  Seattle    WA   98119  Seattle    Seattle, WA           US  United States  47.636289 -122.371025                 t     Apartment  Entire home/apt             4        1.0       1.0   1.0  Real Bed  {TV,\"Cable TV\",Internet,\"Wireless Internet\",\"A...          NaN  $85.00          NaN           NaN              NaN          NaN                2        $5.00               1             365      4 weeks ago                t               14               41               71               346            2016-01-04                207   2011-11-01  2016-01-02                  95.0                    10.0                       10.0                   10.0                         10.0                     9.0                 10.0                f      NaN         WASHINGTON                f            moderate                             f                                f                               2               4.07  \n",
       "1                   Queen Anne  Seattle    WA   98119  Seattle    Seattle, WA           US  United States  47.636289 -122.371025                 t     Apartment  Entire home/apt             4        1.0       1.0   1.0  Real Bed  {TV,\"Cable TV\",Internet,\"Wireless Internet\",\"A...          NaN  $85.00          NaN           NaN              NaN          NaN                2        $5.00               1             365      4 weeks ago                t               14               41               71               346            2016-01-04                207   2011-11-01  2016-01-02                  95.0                    10.0                       10.0                   10.0                         10.0                     9.0                 10.0                f      NaN         WASHINGTON                f            moderate                             f                                f                               2               4.07  \n",
       "2                   Queen Anne  Seattle    WA   98119  Seattle    Seattle, WA           US  United States  47.636289 -122.371025                 t     Apartment  Entire home/apt             4        1.0       1.0   1.0  Real Bed  {TV,\"Cable TV\",Internet,\"Wireless Internet\",\"A...          NaN  $85.00          NaN           NaN              NaN          NaN                2        $5.00               1             365      4 weeks ago                t               14               41               71               346            2016-01-04                207   2011-11-01  2016-01-02                  95.0                    10.0                       10.0                   10.0                         10.0                     9.0                 10.0                f      NaN         WASHINGTON                f            moderate                             f                                f                               2               4.07  \n",
       "3                   Queen Anne  Seattle    WA   98119  Seattle    Seattle, WA           US  United States  47.636289 -122.371025                 t     Apartment  Entire home/apt             4        1.0       1.0   1.0  Real Bed  {TV,\"Cable TV\",Internet,\"Wireless Internet\",\"A...          NaN  $85.00          NaN           NaN              NaN          NaN                2        $5.00               1             365      4 weeks ago                t               14               41               71               346            2016-01-04                207   2011-11-01  2016-01-02                  95.0                    10.0                       10.0                   10.0                         10.0                     9.0                 10.0                f      NaN         WASHINGTON                f            moderate                             f                                f                               2               4.07  \n",
       "4                   Queen Anne  Seattle    WA   98119  Seattle    Seattle, WA           US  United States  47.636289 -122.371025                 t     Apartment  Entire home/apt             4        1.0       1.0   1.0  Real Bed  {TV,\"Cable TV\",Internet,\"Wireless Internet\",\"A...          NaN  $85.00          NaN           NaN              NaN          NaN                2        $5.00               1             365      4 weeks ago                t               14               41               71               346            2016-01-04                207   2011-11-01  2016-01-02                  95.0                    10.0                       10.0                   10.0                         10.0                     9.0                 10.0                f      NaN         WASHINGTON                f            moderate                             f                                f                               2               4.07  "
      ]
     },
     "execution_count": 25,
     "metadata": {},
     "output_type": "execute_result"
    }
   ],
   "source": [
    "#analysing all the columns to decide between with all are relevent and which are irrelevent\n",
    "df.head()"
   ]
  },
  {
   "cell_type": "code",
   "execution_count": 26,
   "metadata": {},
   "outputs": [
    {
     "data": {
      "text/html": [
       "<div>\n",
       "<style scoped>\n",
       "    .dataframe tbody tr th:only-of-type {\n",
       "        vertical-align: middle;\n",
       "    }\n",
       "\n",
       "    .dataframe tbody tr th {\n",
       "        vertical-align: top;\n",
       "    }\n",
       "\n",
       "    .dataframe thead th {\n",
       "        text-align: right;\n",
       "    }\n",
       "</style>\n",
       "<table border=\"1\" class=\"dataframe\">\n",
       "  <thead>\n",
       "    <tr style=\"text-align: right;\">\n",
       "      <th></th>\n",
       "      <th>listing_id</th>\n",
       "      <th>scrape_id</th>\n",
       "      <th>host_id</th>\n",
       "      <th>host_listings_count</th>\n",
       "      <th>host_total_listings_count</th>\n",
       "      <th>latitude</th>\n",
       "      <th>longitude</th>\n",
       "      <th>accommodates</th>\n",
       "      <th>bathrooms</th>\n",
       "      <th>bedrooms</th>\n",
       "      <th>beds</th>\n",
       "      <th>square_feet</th>\n",
       "      <th>guests_included</th>\n",
       "      <th>minimum_nights</th>\n",
       "      <th>maximum_nights</th>\n",
       "      <th>availability_30</th>\n",
       "      <th>availability_60</th>\n",
       "      <th>availability_90</th>\n",
       "      <th>availability_365</th>\n",
       "      <th>number_of_reviews</th>\n",
       "      <th>review_scores_rating</th>\n",
       "      <th>review_scores_accuracy</th>\n",
       "      <th>review_scores_cleanliness</th>\n",
       "      <th>review_scores_checkin</th>\n",
       "      <th>review_scores_communication</th>\n",
       "      <th>review_scores_location</th>\n",
       "      <th>review_scores_value</th>\n",
       "      <th>license</th>\n",
       "      <th>calculated_host_listings_count</th>\n",
       "      <th>reviews_per_month</th>\n",
       "    </tr>\n",
       "  </thead>\n",
       "  <tbody>\n",
       "    <tr>\n",
       "      <th>count</th>\n",
       "      <td>1.393570e+06</td>\n",
       "      <td>1.393570e+06</td>\n",
       "      <td>1.393570e+06</td>\n",
       "      <td>1.392840e+06</td>\n",
       "      <td>1.392840e+06</td>\n",
       "      <td>1.393570e+06</td>\n",
       "      <td>1.393570e+06</td>\n",
       "      <td>1.393570e+06</td>\n",
       "      <td>1.387730e+06</td>\n",
       "      <td>1.391380e+06</td>\n",
       "      <td>1.393205e+06</td>\n",
       "      <td>35405.000000</td>\n",
       "      <td>1.393570e+06</td>\n",
       "      <td>1.393570e+06</td>\n",
       "      <td>1.393570e+06</td>\n",
       "      <td>1.393570e+06</td>\n",
       "      <td>1.393570e+06</td>\n",
       "      <td>1.393570e+06</td>\n",
       "      <td>1.393570e+06</td>\n",
       "      <td>1.393570e+06</td>\n",
       "      <td>1.157415e+06</td>\n",
       "      <td>1.153400e+06</td>\n",
       "      <td>1.155225e+06</td>\n",
       "      <td>1.153400e+06</td>\n",
       "      <td>1.155955e+06</td>\n",
       "      <td>1.154495e+06</td>\n",
       "      <td>1.154130e+06</td>\n",
       "      <td>0.0</td>\n",
       "      <td>1.393570e+06</td>\n",
       "      <td>1.164715e+06</td>\n",
       "    </tr>\n",
       "    <tr>\n",
       "      <th>mean</th>\n",
       "      <td>5.550111e+06</td>\n",
       "      <td>2.016010e+13</td>\n",
       "      <td>1.578556e+07</td>\n",
       "      <td>7.157757e+00</td>\n",
       "      <td>7.157757e+00</td>\n",
       "      <td>4.762896e+01</td>\n",
       "      <td>-1.223331e+02</td>\n",
       "      <td>3.349398e+00</td>\n",
       "      <td>1.259469e+00</td>\n",
       "      <td>1.307712e+00</td>\n",
       "      <td>1.735394e+00</td>\n",
       "      <td>854.618557</td>\n",
       "      <td>1.672603e+00</td>\n",
       "      <td>2.369303e+00</td>\n",
       "      <td>7.804476e+02</td>\n",
       "      <td>1.678628e+01</td>\n",
       "      <td>3.681482e+01</td>\n",
       "      <td>5.808250e+01</td>\n",
       "      <td>2.447727e+02</td>\n",
       "      <td>2.222342e+01</td>\n",
       "      <td>9.453926e+01</td>\n",
       "      <td>9.636392e+00</td>\n",
       "      <td>9.556398e+00</td>\n",
       "      <td>9.786709e+00</td>\n",
       "      <td>9.809599e+00</td>\n",
       "      <td>9.608916e+00</td>\n",
       "      <td>9.452245e+00</td>\n",
       "      <td>NaN</td>\n",
       "      <td>2.946307e+00</td>\n",
       "      <td>2.078919e+00</td>\n",
       "    </tr>\n",
       "    <tr>\n",
       "      <th>std</th>\n",
       "      <td>2.962274e+06</td>\n",
       "      <td>5.650744e+02</td>\n",
       "      <td>1.458191e+07</td>\n",
       "      <td>2.862441e+01</td>\n",
       "      <td>2.862441e+01</td>\n",
       "      <td>4.304633e-02</td>\n",
       "      <td>3.174036e-02</td>\n",
       "      <td>1.977341e+00</td>\n",
       "      <td>5.902917e-01</td>\n",
       "      <td>8.832794e-01</td>\n",
       "      <td>1.139331e+00</td>\n",
       "      <td>667.944510</td>\n",
       "      <td>1.310868e+00</td>\n",
       "      <td>1.630377e+01</td>\n",
       "      <td>1.683369e+03</td>\n",
       "      <td>1.217205e+01</td>\n",
       "      <td>2.333449e+01</td>\n",
       "      <td>3.405940e+01</td>\n",
       "      <td>1.267560e+02</td>\n",
       "      <td>3.772596e+01</td>\n",
       "      <td>6.605044e+00</td>\n",
       "      <td>6.979210e-01</td>\n",
       "      <td>7.971483e-01</td>\n",
       "      <td>5.954051e-01</td>\n",
       "      <td>5.681220e-01</td>\n",
       "      <td>6.289541e-01</td>\n",
       "      <td>7.501403e-01</td>\n",
       "      <td>NaN</td>\n",
       "      <td>5.892260e+00</td>\n",
       "      <td>1.822063e+00</td>\n",
       "    </tr>\n",
       "    <tr>\n",
       "      <th>min</th>\n",
       "      <td>3.335000e+03</td>\n",
       "      <td>2.016010e+13</td>\n",
       "      <td>4.193000e+03</td>\n",
       "      <td>1.000000e+00</td>\n",
       "      <td>1.000000e+00</td>\n",
       "      <td>4.750509e+01</td>\n",
       "      <td>-1.224172e+02</td>\n",
       "      <td>1.000000e+00</td>\n",
       "      <td>0.000000e+00</td>\n",
       "      <td>0.000000e+00</td>\n",
       "      <td>1.000000e+00</td>\n",
       "      <td>0.000000</td>\n",
       "      <td>0.000000e+00</td>\n",
       "      <td>1.000000e+00</td>\n",
       "      <td>1.000000e+00</td>\n",
       "      <td>0.000000e+00</td>\n",
       "      <td>0.000000e+00</td>\n",
       "      <td>0.000000e+00</td>\n",
       "      <td>0.000000e+00</td>\n",
       "      <td>0.000000e+00</td>\n",
       "      <td>2.000000e+01</td>\n",
       "      <td>2.000000e+00</td>\n",
       "      <td>3.000000e+00</td>\n",
       "      <td>2.000000e+00</td>\n",
       "      <td>2.000000e+00</td>\n",
       "      <td>4.000000e+00</td>\n",
       "      <td>2.000000e+00</td>\n",
       "      <td>NaN</td>\n",
       "      <td>1.000000e+00</td>\n",
       "      <td>2.000000e-02</td>\n",
       "    </tr>\n",
       "    <tr>\n",
       "      <th>25%</th>\n",
       "      <td>3.258213e+06</td>\n",
       "      <td>2.016010e+13</td>\n",
       "      <td>3.271389e+06</td>\n",
       "      <td>1.000000e+00</td>\n",
       "      <td>1.000000e+00</td>\n",
       "      <td>4.760942e+01</td>\n",
       "      <td>-1.223543e+02</td>\n",
       "      <td>2.000000e+00</td>\n",
       "      <td>1.000000e+00</td>\n",
       "      <td>1.000000e+00</td>\n",
       "      <td>1.000000e+00</td>\n",
       "      <td>420.000000</td>\n",
       "      <td>1.000000e+00</td>\n",
       "      <td>1.000000e+00</td>\n",
       "      <td>6.000000e+01</td>\n",
       "      <td>2.000000e+00</td>\n",
       "      <td>1.300000e+01</td>\n",
       "      <td>2.800000e+01</td>\n",
       "      <td>1.240000e+02</td>\n",
       "      <td>2.000000e+00</td>\n",
       "      <td>9.300000e+01</td>\n",
       "      <td>9.000000e+00</td>\n",
       "      <td>9.000000e+00</td>\n",
       "      <td>1.000000e+01</td>\n",
       "      <td>1.000000e+01</td>\n",
       "      <td>9.000000e+00</td>\n",
       "      <td>9.000000e+00</td>\n",
       "      <td>NaN</td>\n",
       "      <td>1.000000e+00</td>\n",
       "      <td>6.900000e-01</td>\n",
       "    </tr>\n",
       "    <tr>\n",
       "      <th>50%</th>\n",
       "      <td>6.118244e+06</td>\n",
       "      <td>2.016010e+13</td>\n",
       "      <td>1.055814e+07</td>\n",
       "      <td>1.000000e+00</td>\n",
       "      <td>1.000000e+00</td>\n",
       "      <td>4.762360e+01</td>\n",
       "      <td>-1.223289e+02</td>\n",
       "      <td>3.000000e+00</td>\n",
       "      <td>1.000000e+00</td>\n",
       "      <td>1.000000e+00</td>\n",
       "      <td>1.000000e+00</td>\n",
       "      <td>750.000000</td>\n",
       "      <td>1.000000e+00</td>\n",
       "      <td>2.000000e+00</td>\n",
       "      <td>1.125000e+03</td>\n",
       "      <td>2.000000e+01</td>\n",
       "      <td>4.600000e+01</td>\n",
       "      <td>7.300000e+01</td>\n",
       "      <td>3.080000e+02</td>\n",
       "      <td>9.000000e+00</td>\n",
       "      <td>9.600000e+01</td>\n",
       "      <td>1.000000e+01</td>\n",
       "      <td>1.000000e+01</td>\n",
       "      <td>1.000000e+01</td>\n",
       "      <td>1.000000e+01</td>\n",
       "      <td>1.000000e+01</td>\n",
       "      <td>1.000000e+01</td>\n",
       "      <td>NaN</td>\n",
       "      <td>1.000000e+00</td>\n",
       "      <td>1.540000e+00</td>\n",
       "    </tr>\n",
       "    <tr>\n",
       "      <th>75%</th>\n",
       "      <td>8.035212e+06</td>\n",
       "      <td>2.016010e+13</td>\n",
       "      <td>2.590413e+07</td>\n",
       "      <td>3.000000e+00</td>\n",
       "      <td>3.000000e+00</td>\n",
       "      <td>4.766270e+01</td>\n",
       "      <td>-1.223108e+02</td>\n",
       "      <td>4.000000e+00</td>\n",
       "      <td>1.000000e+00</td>\n",
       "      <td>2.000000e+00</td>\n",
       "      <td>2.000000e+00</td>\n",
       "      <td>1200.000000</td>\n",
       "      <td>2.000000e+00</td>\n",
       "      <td>2.000000e+00</td>\n",
       "      <td>1.125000e+03</td>\n",
       "      <td>3.000000e+01</td>\n",
       "      <td>5.900000e+01</td>\n",
       "      <td>8.900000e+01</td>\n",
       "      <td>3.600000e+02</td>\n",
       "      <td>2.600000e+01</td>\n",
       "      <td>9.900000e+01</td>\n",
       "      <td>1.000000e+01</td>\n",
       "      <td>1.000000e+01</td>\n",
       "      <td>1.000000e+01</td>\n",
       "      <td>1.000000e+01</td>\n",
       "      <td>1.000000e+01</td>\n",
       "      <td>1.000000e+01</td>\n",
       "      <td>NaN</td>\n",
       "      <td>2.000000e+00</td>\n",
       "      <td>3.000000e+00</td>\n",
       "    </tr>\n",
       "    <tr>\n",
       "      <th>max</th>\n",
       "      <td>1.034016e+07</td>\n",
       "      <td>2.016010e+13</td>\n",
       "      <td>5.320861e+07</td>\n",
       "      <td>5.020000e+02</td>\n",
       "      <td>5.020000e+02</td>\n",
       "      <td>4.773336e+01</td>\n",
       "      <td>-1.222406e+02</td>\n",
       "      <td>1.600000e+01</td>\n",
       "      <td>8.000000e+00</td>\n",
       "      <td>7.000000e+00</td>\n",
       "      <td>1.500000e+01</td>\n",
       "      <td>3000.000000</td>\n",
       "      <td>1.500000e+01</td>\n",
       "      <td>1.000000e+03</td>\n",
       "      <td>1.000000e+05</td>\n",
       "      <td>3.000000e+01</td>\n",
       "      <td>6.000000e+01</td>\n",
       "      <td>9.000000e+01</td>\n",
       "      <td>3.650000e+02</td>\n",
       "      <td>4.740000e+02</td>\n",
       "      <td>1.000000e+02</td>\n",
       "      <td>1.000000e+01</td>\n",
       "      <td>1.000000e+01</td>\n",
       "      <td>1.000000e+01</td>\n",
       "      <td>1.000000e+01</td>\n",
       "      <td>1.000000e+01</td>\n",
       "      <td>1.000000e+01</td>\n",
       "      <td>NaN</td>\n",
       "      <td>3.700000e+01</td>\n",
       "      <td>1.215000e+01</td>\n",
       "    </tr>\n",
       "  </tbody>\n",
       "</table>\n",
       "</div>"
      ],
      "text/plain": [
       "         listing_id     scrape_id       host_id  host_listings_count  host_total_listings_count      latitude     longitude  accommodates     bathrooms      bedrooms          beds   square_feet  guests_included  minimum_nights  maximum_nights  availability_30  availability_60  availability_90  availability_365  number_of_reviews  review_scores_rating  review_scores_accuracy  review_scores_cleanliness  review_scores_checkin  review_scores_communication  review_scores_location  review_scores_value  license  calculated_host_listings_count  reviews_per_month\n",
       "count  1.393570e+06  1.393570e+06  1.393570e+06         1.392840e+06               1.392840e+06  1.393570e+06  1.393570e+06  1.393570e+06  1.387730e+06  1.391380e+06  1.393205e+06  35405.000000     1.393570e+06    1.393570e+06    1.393570e+06     1.393570e+06     1.393570e+06     1.393570e+06      1.393570e+06       1.393570e+06          1.157415e+06            1.153400e+06               1.155225e+06           1.153400e+06                 1.155955e+06            1.154495e+06         1.154130e+06      0.0                    1.393570e+06       1.164715e+06\n",
       "mean   5.550111e+06  2.016010e+13  1.578556e+07         7.157757e+00               7.157757e+00  4.762896e+01 -1.223331e+02  3.349398e+00  1.259469e+00  1.307712e+00  1.735394e+00    854.618557     1.672603e+00    2.369303e+00    7.804476e+02     1.678628e+01     3.681482e+01     5.808250e+01      2.447727e+02       2.222342e+01          9.453926e+01            9.636392e+00               9.556398e+00           9.786709e+00                 9.809599e+00            9.608916e+00         9.452245e+00      NaN                    2.946307e+00       2.078919e+00\n",
       "std    2.962274e+06  5.650744e+02  1.458191e+07         2.862441e+01               2.862441e+01  4.304633e-02  3.174036e-02  1.977341e+00  5.902917e-01  8.832794e-01  1.139331e+00    667.944510     1.310868e+00    1.630377e+01    1.683369e+03     1.217205e+01     2.333449e+01     3.405940e+01      1.267560e+02       3.772596e+01          6.605044e+00            6.979210e-01               7.971483e-01           5.954051e-01                 5.681220e-01            6.289541e-01         7.501403e-01      NaN                    5.892260e+00       1.822063e+00\n",
       "min    3.335000e+03  2.016010e+13  4.193000e+03         1.000000e+00               1.000000e+00  4.750509e+01 -1.224172e+02  1.000000e+00  0.000000e+00  0.000000e+00  1.000000e+00      0.000000     0.000000e+00    1.000000e+00    1.000000e+00     0.000000e+00     0.000000e+00     0.000000e+00      0.000000e+00       0.000000e+00          2.000000e+01            2.000000e+00               3.000000e+00           2.000000e+00                 2.000000e+00            4.000000e+00         2.000000e+00      NaN                    1.000000e+00       2.000000e-02\n",
       "25%    3.258213e+06  2.016010e+13  3.271389e+06         1.000000e+00               1.000000e+00  4.760942e+01 -1.223543e+02  2.000000e+00  1.000000e+00  1.000000e+00  1.000000e+00    420.000000     1.000000e+00    1.000000e+00    6.000000e+01     2.000000e+00     1.300000e+01     2.800000e+01      1.240000e+02       2.000000e+00          9.300000e+01            9.000000e+00               9.000000e+00           1.000000e+01                 1.000000e+01            9.000000e+00         9.000000e+00      NaN                    1.000000e+00       6.900000e-01\n",
       "50%    6.118244e+06  2.016010e+13  1.055814e+07         1.000000e+00               1.000000e+00  4.762360e+01 -1.223289e+02  3.000000e+00  1.000000e+00  1.000000e+00  1.000000e+00    750.000000     1.000000e+00    2.000000e+00    1.125000e+03     2.000000e+01     4.600000e+01     7.300000e+01      3.080000e+02       9.000000e+00          9.600000e+01            1.000000e+01               1.000000e+01           1.000000e+01                 1.000000e+01            1.000000e+01         1.000000e+01      NaN                    1.000000e+00       1.540000e+00\n",
       "75%    8.035212e+06  2.016010e+13  2.590413e+07         3.000000e+00               3.000000e+00  4.766270e+01 -1.223108e+02  4.000000e+00  1.000000e+00  2.000000e+00  2.000000e+00   1200.000000     2.000000e+00    2.000000e+00    1.125000e+03     3.000000e+01     5.900000e+01     8.900000e+01      3.600000e+02       2.600000e+01          9.900000e+01            1.000000e+01               1.000000e+01           1.000000e+01                 1.000000e+01            1.000000e+01         1.000000e+01      NaN                    2.000000e+00       3.000000e+00\n",
       "max    1.034016e+07  2.016010e+13  5.320861e+07         5.020000e+02               5.020000e+02  4.773336e+01 -1.222406e+02  1.600000e+01  8.000000e+00  7.000000e+00  1.500000e+01   3000.000000     1.500000e+01    1.000000e+03    1.000000e+05     3.000000e+01     6.000000e+01     9.000000e+01      3.650000e+02       4.740000e+02          1.000000e+02            1.000000e+01               1.000000e+01           1.000000e+01                 1.000000e+01            1.000000e+01         1.000000e+01      NaN                    3.700000e+01       1.215000e+01"
      ]
     },
     "execution_count": 26,
     "metadata": {},
     "output_type": "execute_result"
    }
   ],
   "source": [
    "df.describe()"
   ]
  },
  {
   "cell_type": "markdown",
   "metadata": {},
   "source": [
    "##### Let us now **drop redundant information** from our dataset, thes columns are `irrelevent for our analysis`, hence **dropping** them makes our task easy."
   ]
  },
  {
   "cell_type": "code",
   "execution_count": 27,
   "metadata": {},
   "outputs": [],
   "source": [
    "#irrelevent columns, these are the columns which are not so informative for out analysis\n",
    "columns_to_drop = ['host_id','host_location','host_acceptance_rate','host_neighbourhood',\n",
    "                   'host_total_listings_count', 'weekly_price', 'monthly_price',\n",
    "                   'security_deposit', 'cleaning_fee', 'calendar_updated',\n",
    "                   'listing_url','last_scraped' ,'scrape_id', 'name', 'summary', 'space', 'description',\n",
    "                   'experiences_offered', 'street', 'neighbourhood', 'neighbourhood_cleansed', 'zipcode',\n",
    "                   'neighborhood_overview', 'notes', 'transit', 'thumbnail_url', 'medium_url', 'picture_url',\n",
    "                   'xl_picture_url', 'host_url', 'host_name', 'host_about', 'host_thumbnail_url', 'host_picture_url',\n",
    "                   'city', 'state', 'market', 'smart_location', 'country_code', 'country', 'latitude', 'longitude',\n",
    "                   'is_location_exact', 'square_feet', 'has_availability', 'availability_30',\n",
    "                   'availability_60', 'availability_90', 'availability_365', 'calendar_last_scraped',\n",
    "                  'first_review', 'last_review', 'requires_license', 'license', 'jurisdiction_names', 'price_y',\n",
    "                  'reviews_per_month']"
   ]
  },
  {
   "cell_type": "code",
   "execution_count": 28,
   "metadata": {},
   "outputs": [],
   "source": [
    "#drop irrelevent columns\n",
    "df = df.drop(columns=columns_to_drop)"
   ]
  },
  {
   "cell_type": "code",
   "execution_count": 29,
   "metadata": {},
   "outputs": [
    {
     "data": {
      "text/plain": [
       "Index(['listing_id', 'date', 'available', 'price_x', 'host_since', 'host_response_time', 'host_response_rate', 'host_is_superhost', 'host_listings_count', 'host_verifications', 'host_has_profile_pic', 'host_identity_verified', 'neighbourhood_group_cleansed', 'property_type', 'room_type', 'accommodates', 'bathrooms', 'bedrooms', 'beds', 'bed_type', 'amenities', 'guests_included', 'extra_people', 'minimum_nights', 'maximum_nights', 'number_of_reviews', 'review_scores_rating', 'review_scores_accuracy', 'review_scores_cleanliness', 'review_scores_checkin', 'review_scores_communication', 'review_scores_location', 'review_scores_value', 'instant_bookable', 'cancellation_policy', 'require_guest_profile_picture', 'require_guest_phone_verification', 'calculated_host_listings_count'], dtype='object')"
      ]
     },
     "execution_count": 29,
     "metadata": {},
     "output_type": "execute_result"
    }
   ],
   "source": [
    "df.columns"
   ]
  },
  {
   "cell_type": "markdown",
   "metadata": {},
   "source": [
    "##### ***What is the type of each variable in raw data***"
   ]
  },
  {
   "cell_type": "code",
   "execution_count": 30,
   "metadata": {},
   "outputs": [
    {
     "data": {
      "text/plain": [
       "listing_id                            int64\n",
       "date                                 object\n",
       "available                            object\n",
       "price_x                              object\n",
       "host_since                           object\n",
       "host_response_time                   object\n",
       "host_response_rate                   object\n",
       "host_is_superhost                    object\n",
       "host_listings_count                 float64\n",
       "host_verifications                   object\n",
       "host_has_profile_pic                 object\n",
       "host_identity_verified               object\n",
       "neighbourhood_group_cleansed         object\n",
       "property_type                        object\n",
       "room_type                            object\n",
       "accommodates                          int64\n",
       "bathrooms                           float64\n",
       "bedrooms                            float64\n",
       "beds                                float64\n",
       "bed_type                             object\n",
       "amenities                            object\n",
       "guests_included                       int64\n",
       "extra_people                         object\n",
       "minimum_nights                        int64\n",
       "maximum_nights                        int64\n",
       "number_of_reviews                     int64\n",
       "review_scores_rating                float64\n",
       "review_scores_accuracy              float64\n",
       "review_scores_cleanliness           float64\n",
       "review_scores_checkin               float64\n",
       "review_scores_communication         float64\n",
       "review_scores_location              float64\n",
       "review_scores_value                 float64\n",
       "instant_bookable                     object\n",
       "cancellation_policy                  object\n",
       "require_guest_profile_picture        object\n",
       "require_guest_phone_verification     object\n",
       "calculated_host_listings_count        int64\n",
       "dtype: object"
      ]
     },
     "execution_count": 30,
     "metadata": {},
     "output_type": "execute_result"
    }
   ],
   "source": [
    "#check dtypes \n",
    "df.dtypes"
   ]
  },
  {
   "cell_type": "markdown",
   "metadata": {},
   "source": [
    "##### ***Convert price to number***"
   ]
  },
  {
   "cell_type": "code",
   "execution_count": 31,
   "metadata": {},
   "outputs": [
    {
     "name": "stderr",
     "output_type": "stream",
     "text": [
      "C:\\Users\\mukulraj\\AppData\\Local\\Temp\\ipykernel_944\\225423730.py:2: FutureWarning: The default value of regex will change from True to False in a future version.\n",
      "  df['price'] = df['price_x'].str.replace('[$, ]', '').astype(float)\n"
     ]
    }
   ],
   "source": [
    "#convert price to number and drop the price_x column\n",
    "df['price'] = df['price_x'].str.replace('[$, ]', '').astype(float)\n",
    "df = df.drop(columns=['price_x'])"
   ]
  },
  {
   "cell_type": "code",
   "execution_count": 32,
   "metadata": {},
   "outputs": [
    {
     "data": {
      "text/plain": [
       "dtype('float64')"
      ]
     },
     "execution_count": 32,
     "metadata": {},
     "output_type": "execute_result"
    }
   ],
   "source": [
    "#unit test checking for above operation\n",
    "df['price'].dtype"
   ]
  },
  {
   "cell_type": "markdown",
   "metadata": {},
   "source": [
    "##### ***Convert date from string to numbers/readable date format***"
   ]
  },
  {
   "cell_type": "code",
   "execution_count": 33,
   "metadata": {},
   "outputs": [],
   "source": [
    "#converting date from the calendar into month \n",
    "df['month'] = df.apply(lambda row: int(row['date'].split('-')[1]),axis=1)"
   ]
  },
  {
   "cell_type": "code",
   "execution_count": null,
   "metadata": {},
   "outputs": [],
   "source": [
    "#converting date from the calendar into year and drop the date column\n",
    "df['year'] = df.apply(lambda row: int(row['date'].split('-')[0]), axis=1)"
   ]
  },
  {
   "cell_type": "code",
   "execution_count": 35,
   "metadata": {},
   "outputs": [],
   "source": [
    "df = df.drop(columns= ['date'])"
   ]
  },
  {
   "cell_type": "markdown",
   "metadata": {},
   "source": [
    "##### ***Convert other columns to numbers for our relevance in data analysis and modelling***"
   ]
  },
  {
   "cell_type": "code",
   "execution_count": 34,
   "metadata": {},
   "outputs": [],
   "source": [
    "#convert host_since date into number and fill in missing values, drop the original column\n",
    "\n",
    "def get_year_for_host_since(row):\n",
    "    \"\"\"\n",
    "    Takes in a row of dataframe.\n",
    "    Returns row with modified value of 'host_since' as its year only.\n",
    "    \"\"\"\n",
    "    try:\n",
    "        host_since = int(row['host_since'].split('-')[0])\n",
    "    except:\n",
    "        host_since = np.NaN\n",
    "    return host_since\n",
    "\n",
    "df['host_since_year'] = df.apply(lambda row: get_year_for_host_since(row),axis=1)\n",
    "df = df.drop(columns = ['host_since'])"
   ]
  },
  {
   "cell_type": "code",
   "execution_count": 35,
   "metadata": {},
   "outputs": [
    {
     "data": {
      "text/plain": [
       "730"
      ]
     },
     "execution_count": 35,
     "metadata": {},
     "output_type": "execute_result"
    }
   ],
   "source": [
    "#Number of nans in 'host since year'\n",
    "df['host_since_year'].isnull().sum()"
   ]
  },
  {
   "cell_type": "markdown",
   "metadata": {},
   "source": [
    "Now, let us fill all the missing values in our data, this is necessary for any model to fit our data."
   ]
  },
  {
   "cell_type": "code",
   "execution_count": 36,
   "metadata": {},
   "outputs": [],
   "source": [
    "#convert host_response_rate into number and fill in missing values, drop the original column\n",
    "df['host_response_rate_num'] = df['host_response_rate'].str.replace('%','').astype(float)\n",
    "df = df.drop(columns = ['host_response_rate'])"
   ]
  },
  {
   "cell_type": "code",
   "execution_count": 43,
   "metadata": {},
   "outputs": [
    {
     "data": {
      "text/plain": [
       "count    1202675.000000\n",
       "mean          94.886798\n",
       "std           11.864909\n",
       "min           17.000000\n",
       "25%           98.000000\n",
       "50%          100.000000\n",
       "75%          100.000000\n",
       "max          100.000000\n",
       "Name: host_response_rate_num, dtype: object"
      ]
     },
     "execution_count": 43,
     "metadata": {},
     "output_type": "execute_result"
    }
   ],
   "source": [
    "#description of this new host_response_rate_num column\n",
    "df['host_response_rate_num'].describe().apply(lambda x: format(x, 'f'))"
   ]
  },
  {
   "cell_type": "code",
   "execution_count": 45,
   "metadata": {},
   "outputs": [
    {
     "data": {
      "text/plain": [
       "13.698271346254584"
      ]
     },
     "execution_count": 45,
     "metadata": {},
     "output_type": "execute_result"
    }
   ],
   "source": [
    "#percentage of missing data in this column\n",
    "df['host_response_rate_num'].isnull().sum() / len(df) *100 "
   ]
  },
  {
   "cell_type": "code",
   "execution_count": 44,
   "metadata": {},
   "outputs": [
    {
     "data": {
      "text/plain": [
       "<matplotlib.collections.PathCollection at 0x7f0be5f1b510>"
      ]
     },
     "execution_count": 44,
     "metadata": {},
     "output_type": "execute_result"
    },
    {
     "data": {
      "image/png": "[encoded data removed]",
      "text/plain": [
       "<Figure size 432x288 with 1 Axes>"
      ]
     },
     "metadata": {
      "needs_background": "light"
     },
     "output_type": "display_data"
    }
   ],
   "source": [
    "#scatter plot to see the variation in data\n",
    "plt.scatter(range(len(df)),df['host_response_rate_num'])"
   ]
  },
  {
   "cell_type": "markdown",
   "metadata": {},
   "source": [
    "> From the above scatter plot we can see that majority of values in this column lie in the range of 80-98, 98 being the max value. As 94 is the mean as also lie in this range, we must impute mean at missing values which are 13% of the total.  "
   ]
  },
  {
   "cell_type": "code",
   "execution_count": 33,
   "metadata": {},
   "outputs": [],
   "source": [
    "#fill missing values with mean.\n",
    "df['host_response_rate_num'] = df['host_response_rate_num'].fillna(df['host_response_rate_num'].mean())"
   ]
  },
  {
   "cell_type": "markdown",
   "metadata": {},
   "source": [
    "Split host_response_rate_num into buckets as the datapoints corresponding to this feature are scattered with few outliers too, also these data points are spreaded with standard deviation of 11 which means high variation. Thus splitting into two buckets irradicates weightage problem."
   ]
  },
  {
   "cell_type": "code",
   "execution_count": 46,
   "metadata": {},
   "outputs": [],
   "source": [
    "#splitting the host_response_rate_num into 2 buckets with new classes for further modeling and to avoid weightage problem\n",
    "df['host_response_rate_buckets'] = pd.qcut(df['host_response_rate_num'], 5, labels=False, duplicates = 'drop')"
   ]
  },
  {
   "cell_type": "code",
   "execution_count": 47,
   "metadata": {},
   "outputs": [
    {
     "data": {
      "text/plain": [
       "1.0    956665\n",
       "0.0    246010\n",
       "Name: host_response_rate_buckets, dtype: int64"
      ]
     },
     "execution_count": 47,
     "metadata": {},
     "output_type": "execute_result"
    }
   ],
   "source": [
    "df = df.drop(columns = ['host_response_rate_num'])\n",
    "df['host_response_rate_buckets'].value_counts()"
   ]
  },
  {
   "cell_type": "code",
   "execution_count": 52,
   "metadata": {},
   "outputs": [
    {
     "data": {
      "text/plain": [
       "0.05238344683080147"
      ]
     },
     "execution_count": 52,
     "metadata": {},
     "output_type": "execute_result"
    }
   ],
   "source": [
    "#analyzing host_listing_count\n",
    "df['host_listings_count'].isnull().sum() / len(df) *100\n",
    "#thus only 5% of this data is missing"
   ]
  },
  {
   "cell_type": "code",
   "execution_count": 50,
   "metadata": {},
   "outputs": [
    {
     "data": {
      "text/plain": [
       "count    1392840.000000\n",
       "mean           7.157757\n",
       "std           28.624408\n",
       "min            1.000000\n",
       "25%            1.000000\n",
       "50%            1.000000\n",
       "75%            3.000000\n",
       "max          502.000000\n",
       "Name: host_listings_count, dtype: object"
      ]
     },
     "execution_count": 50,
     "metadata": {},
     "output_type": "execute_result"
    }
   ],
   "source": [
    "df['host_listings_count'].describe().apply(lambda x: format(x, 'f'))"
   ]
  },
  {
   "cell_type": "code",
   "execution_count": 49,
   "metadata": {},
   "outputs": [
    {
     "data": {
      "text/plain": [
       "<matplotlib.collections.PathCollection at 0x7f0bdf8e7c10>"
      ]
     },
     "execution_count": 49,
     "metadata": {},
     "output_type": "execute_result"
    },
    {
     "data": {
      "image/png": "[encoded data removed]",
      "text/plain": [
       "<Figure size 432x288 with 1 Axes>"
      ]
     },
     "metadata": {
      "needs_background": "light"
     },
     "output_type": "display_data"
    }
   ],
   "source": [
    "plt.scatter(range(len(df)),df['host_listings_count'])"
   ]
  },
  {
   "cell_type": "markdown",
   "metadata": {},
   "source": [
    "As it can be seen that most all the data points fall in 0-40 range, filling the missing data with mean = 7, and maximum of data points are below 20, hence filling the missing data with mean is a good option as compared to others to ***maintain the variability in the data***."
   ]
  },
  {
   "cell_type": "code",
   "execution_count": 37,
   "metadata": {},
   "outputs": [],
   "source": [
    "#fill missing values with mean value for host_listings_count\n",
    "df['host_listings_count'].fillna(df['host_listings_count'].mean(), inplace = True)"
   ]
  },
  {
   "cell_type": "code",
   "execution_count": 57,
   "metadata": {},
   "outputs": [
    {
     "data": {
      "text/plain": [
       "count    1387730.000000\n",
       "mean           1.259469\n",
       "std            0.590292\n",
       "min            0.000000\n",
       "25%            1.000000\n",
       "50%            1.000000\n",
       "75%            1.000000\n",
       "max            8.000000\n",
       "Name: bathrooms, dtype: object"
      ]
     },
     "execution_count": 57,
     "metadata": {},
     "output_type": "execute_result"
    }
   ],
   "source": [
    "#analyzing bathrooms, bedrooms and beds\n",
    "df['bathrooms'].describe().apply(lambda x: format(x, 'f'))"
   ]
  },
  {
   "cell_type": "code",
   "execution_count": 56,
   "metadata": {},
   "outputs": [
    {
     "data": {
      "image/png": "[encoded data removed]",
      "text/plain": [
       "<Figure size 432x288 with 1 Axes>"
      ]
     },
     "metadata": {
      "needs_background": "light"
     },
     "output_type": "display_data"
    },
    {
     "data": {
      "image/png": "[encoded data removed]",
      "text/plain": [
       "<Figure size 432x288 with 1 Axes>"
      ]
     },
     "metadata": {
      "needs_background": "light"
     },
     "output_type": "display_data"
    },
    {
     "data": {
      "image/png": "[encoded data removed]",
      "text/plain": [
       "<Figure size 432x288 with 1 Axes>"
      ]
     },
     "metadata": {
      "needs_background": "light"
     },
     "output_type": "display_data"
    }
   ],
   "source": [
    "plt.scatter(range(len(df)),df['bathrooms'])\n",
    "plt.show()\n",
    "\n",
    "plt.scatter(range(len(df)),df['bedrooms'])\n",
    "plt.show()\n",
    "\n",
    "plt.scatter(range(len(df)),df['beds'])\n",
    "plt.show()"
   ]
  },
  {
   "cell_type": "markdown",
   "metadata": {},
   "source": [
    "For \"bedrooms\", \"bathrooms\" and \"beds\", it can be noted that values are **descrete and highly variable** in a very **small range** of number like 0-5 for bathrooms, 0-7 for bedrooms, 0-10 fo beds. Hence imputing a **mean will disturb the data variation** and add absurt numbers wheareas the decrete integers are expected. Also, we can notice **outliers** in the data hence, **imputing median would be a bad choice**. Hence imputing mode (maximum number of data points) is the best criteria for filling missing values, this will also maintain the variability."
   ]
  },
  {
   "cell_type": "code",
   "execution_count": 38,
   "metadata": {},
   "outputs": [],
   "source": [
    "#fill in missing values for bathrooms, bedrooms and beds with mode as mean wont be a good filling criteria here\n",
    "df['bathrooms'] = df['bathrooms'].fillna(df['bathrooms'].mode()[0])\n",
    "df['bedrooms'] = df['bedrooms'].fillna(df['bedrooms'].mode()[0])\n",
    "df['beds'] = df['beds'].fillna(df['beds'].mode()[0])"
   ]
  },
  {
   "cell_type": "code",
   "execution_count": 39,
   "metadata": {},
   "outputs": [
    {
     "data": {
      "text/plain": [
       "['TV',\n",
       " 'Cable TV',\n",
       " 'Internet',\n",
       " 'Wireless Internet',\n",
       " 'Air Conditioning',\n",
       " 'Kitchen',\n",
       " 'Heating',\n",
       " 'Family/Kid Friendly',\n",
       " 'Washer',\n",
       " 'Dryer']"
      ]
     },
     "execution_count": 39,
     "metadata": {},
     "output_type": "execute_result"
    }
   ],
   "source": [
    "#dummy variables for 'amenities'\n",
    "df.amenities[0].replace('\"','').replace(\"'\",'').replace('{','').replace('}','').replace('[','').replace(']','').split(',')"
   ]
  },
  {
   "cell_type": "markdown",
   "metadata": {},
   "source": [
    "##### ***Creation of dummy numeric variables (columns)*** from columns like ***`amenities`*** and ***`host_verification`*** which are stored in the form of list"
   ]
  },
  {
   "cell_type": "code",
   "execution_count": 40,
   "metadata": {},
   "outputs": [],
   "source": [
    "def get_val_from_list(row, column_name, value):\n",
    "    ''' Fill in dummy column for values '''\n",
    "    val = 0.0\n",
    "    try:\n",
    "        vals = row[column_name].replace('[', '').replace(\"'\", '').replace(\"]\", '').replace('\"', '').replace('{', '').replace('}', '').split(',')\n",
    "        if value in vals:\n",
    "            val = 1.0\n",
    "    except:\n",
    "        val = 0.0\n",
    "    return val\n",
    "\n",
    "def split_list_into_columns(df, column_name, max_dummies_num = 10):\n",
    "    ''' Split values in columns, which contain lists (for example, amenities, host_verifications, etc) '''\n",
    "    \n",
    "    # get dictionary of unique values in lists across dataset rows\n",
    "    values_dict = {}\n",
    "\n",
    "    for unique_value in df[column_name].unique(): \n",
    "        for value in unique_value.replace('[', '').replace(\"'\", '').replace(\"]\", '').replace('\"', '').replace('{', '').replace('}', '').split(','):\n",
    "            if value in values_dict:\n",
    "                values_dict[value] = values_dict[value] + 1\n",
    "            else:\n",
    "                values_dict[value] = 0\n",
    "                \n",
    "    values_sorted = sorted(values_dict.items(), key=lambda kv: kv[1], reverse = True)\n",
    "      \n",
    "    # split into columns\n",
    "    for value in values_sorted[: max_dummies_num]:\n",
    "        df[column_name + '_' + value[0]] = df.apply(lambda row: get_val_from_list(row, column_name, value[0]),axis=1)\n",
    "        \n",
    "    return"
   ]
  },
  {
   "cell_type": "code",
   "execution_count": 41,
   "metadata": {},
   "outputs": [],
   "source": [
    "#split host_verifications and amenities into dummy columns and drop the original columns\n",
    "split_list_into_columns(df, 'amenities')\n",
    "split_list_into_columns(df, 'host_verifications')\n",
    "\n",
    "df = df.drop(columns = ['host_verifications', 'amenities'])"
   ]
  },
  {
   "cell_type": "markdown",
   "metadata": {},
   "source": [
    "##### Create ***`binary variable`*** to know if the listing charge for extra people"
   ]
  },
  {
   "cell_type": "code",
   "execution_count": 42,
   "metadata": {},
   "outputs": [],
   "source": [
    "#extra_people into binary column for modeling(1 if there is extra fee, else 0)\n",
    "df['extra_people_fee'] = df.apply(lambda row: 0.0 if row['extra_people']=='$0.00' else 1.0, axis=1)"
   ]
  },
  {
   "cell_type": "code",
   "execution_count": 43,
   "metadata": {},
   "outputs": [],
   "source": [
    "#drop 'extra_people' column\n",
    "df = df.drop(columns = ['extra_people'])\n",
    "df = df.drop(columns = ['host_since_year'])"
   ]
  },
  {
   "cell_type": "markdown",
   "metadata": {},
   "source": [
    "##### ***`Fill missing values`*** in columns related to reviews with their respective `mean`."
   ]
  },
  {
   "cell_type": "code",
   "execution_count": 44,
   "metadata": {},
   "outputs": [],
   "source": [
    "#fill missing values for review scores columns\n",
    "review_scores_columns = ['review_scores_rating', 'review_scores_accuracy', 'review_scores_cleanliness',\n",
    "                     'review_scores_checkin', 'review_scores_communication', 'review_scores_location',\n",
    "                     'review_scores_value']\n",
    "for column in review_scores_columns:\n",
    "    df[column].fillna(df[column].mean(), inplace = True)"
   ]
  },
  {
   "cell_type": "markdown",
   "metadata": {},
   "source": [
    "##### Overview of ***cleaned & prepared dataset***"
   ]
  },
  {
   "cell_type": "code",
   "execution_count": 45,
   "metadata": {},
   "outputs": [
    {
     "data": {
      "text/html": [
       "<div>\n",
       "<style scoped>\n",
       "    .dataframe tbody tr th:only-of-type {\n",
       "        vertical-align: middle;\n",
       "    }\n",
       "\n",
       "    .dataframe tbody tr th {\n",
       "        vertical-align: top;\n",
       "    }\n",
       "\n",
       "    .dataframe thead th {\n",
       "        text-align: right;\n",
       "    }\n",
       "</style>\n",
       "<table border=\"1\" class=\"dataframe\">\n",
       "  <thead>\n",
       "    <tr style=\"text-align: right;\">\n",
       "      <th></th>\n",
       "      <th>listing_id</th>\n",
       "      <th>available</th>\n",
       "      <th>host_response_time</th>\n",
       "      <th>host_is_superhost</th>\n",
       "      <th>host_listings_count</th>\n",
       "      <th>host_has_profile_pic</th>\n",
       "      <th>host_identity_verified</th>\n",
       "      <th>neighbourhood_group_cleansed</th>\n",
       "      <th>property_type</th>\n",
       "      <th>room_type</th>\n",
       "      <th>accommodates</th>\n",
       "      <th>bathrooms</th>\n",
       "      <th>bedrooms</th>\n",
       "      <th>beds</th>\n",
       "      <th>bed_type</th>\n",
       "      <th>guests_included</th>\n",
       "      <th>minimum_nights</th>\n",
       "      <th>maximum_nights</th>\n",
       "      <th>number_of_reviews</th>\n",
       "      <th>review_scores_rating</th>\n",
       "      <th>review_scores_accuracy</th>\n",
       "      <th>review_scores_cleanliness</th>\n",
       "      <th>review_scores_checkin</th>\n",
       "      <th>review_scores_communication</th>\n",
       "      <th>review_scores_location</th>\n",
       "      <th>review_scores_value</th>\n",
       "      <th>instant_bookable</th>\n",
       "      <th>cancellation_policy</th>\n",
       "      <th>require_guest_profile_picture</th>\n",
       "      <th>require_guest_phone_verification</th>\n",
       "      <th>calculated_host_listings_count</th>\n",
       "      <th>price</th>\n",
       "      <th>month</th>\n",
       "      <th>year</th>\n",
       "      <th>host_response_rate_buckets</th>\n",
       "      <th>amenities_Wireless Internet</th>\n",
       "      <th>amenities_Heating</th>\n",
       "      <th>amenities_Kitchen</th>\n",
       "      <th>amenities_Smoke Detector</th>\n",
       "      <th>amenities_Essentials</th>\n",
       "      <th>amenities_Dryer</th>\n",
       "      <th>amenities_Washer</th>\n",
       "      <th>amenities_Internet</th>\n",
       "      <th>amenities_Shampoo</th>\n",
       "      <th>amenities_TV</th>\n",
       "      <th>host_verifications_email</th>\n",
       "      <th>host_verifications_ phone</th>\n",
       "      <th>host_verifications_ reviews</th>\n",
       "      <th>host_verifications_ facebook</th>\n",
       "      <th>host_verifications_ jumio</th>\n",
       "      <th>host_verifications_ kba</th>\n",
       "      <th>host_verifications_ linkedin</th>\n",
       "      <th>host_verifications_ google</th>\n",
       "      <th>host_verifications_ manual_offline</th>\n",
       "      <th>host_verifications_phone</th>\n",
       "      <th>extra_people_fee</th>\n",
       "    </tr>\n",
       "  </thead>\n",
       "  <tbody>\n",
       "    <tr>\n",
       "      <th>0</th>\n",
       "      <td>241032</td>\n",
       "      <td>t</td>\n",
       "      <td>within a few hours</td>\n",
       "      <td>f</td>\n",
       "      <td>3.0</td>\n",
       "      <td>t</td>\n",
       "      <td>t</td>\n",
       "      <td>Queen Anne</td>\n",
       "      <td>Apartment</td>\n",
       "      <td>Entire home/apt</td>\n",
       "      <td>4</td>\n",
       "      <td>1.0</td>\n",
       "      <td>1.0</td>\n",
       "      <td>1.0</td>\n",
       "      <td>Real Bed</td>\n",
       "      <td>2</td>\n",
       "      <td>1</td>\n",
       "      <td>365</td>\n",
       "      <td>207</td>\n",
       "      <td>95.0</td>\n",
       "      <td>10.0</td>\n",
       "      <td>10.0</td>\n",
       "      <td>10.0</td>\n",
       "      <td>10.0</td>\n",
       "      <td>9.0</td>\n",
       "      <td>10.0</td>\n",
       "      <td>f</td>\n",
       "      <td>moderate</td>\n",
       "      <td>f</td>\n",
       "      <td>f</td>\n",
       "      <td>2</td>\n",
       "      <td>85.0</td>\n",
       "      <td>1</td>\n",
       "      <td>2016</td>\n",
       "      <td>1</td>\n",
       "      <td>1.0</td>\n",
       "      <td>1.0</td>\n",
       "      <td>1.0</td>\n",
       "      <td>0.0</td>\n",
       "      <td>0.0</td>\n",
       "      <td>1.0</td>\n",
       "      <td>1.0</td>\n",
       "      <td>1.0</td>\n",
       "      <td>0.0</td>\n",
       "      <td>1.0</td>\n",
       "      <td>1.0</td>\n",
       "      <td>1.0</td>\n",
       "      <td>1.0</td>\n",
       "      <td>0.0</td>\n",
       "      <td>0.0</td>\n",
       "      <td>1.0</td>\n",
       "      <td>0.0</td>\n",
       "      <td>0.0</td>\n",
       "      <td>0.0</td>\n",
       "      <td>0.0</td>\n",
       "      <td>1.0</td>\n",
       "    </tr>\n",
       "    <tr>\n",
       "      <th>1</th>\n",
       "      <td>241032</td>\n",
       "      <td>t</td>\n",
       "      <td>within a few hours</td>\n",
       "      <td>f</td>\n",
       "      <td>3.0</td>\n",
       "      <td>t</td>\n",
       "      <td>t</td>\n",
       "      <td>Queen Anne</td>\n",
       "      <td>Apartment</td>\n",
       "      <td>Entire home/apt</td>\n",
       "      <td>4</td>\n",
       "      <td>1.0</td>\n",
       "      <td>1.0</td>\n",
       "      <td>1.0</td>\n",
       "      <td>Real Bed</td>\n",
       "      <td>2</td>\n",
       "      <td>1</td>\n",
       "      <td>365</td>\n",
       "      <td>207</td>\n",
       "      <td>95.0</td>\n",
       "      <td>10.0</td>\n",
       "      <td>10.0</td>\n",
       "      <td>10.0</td>\n",
       "      <td>10.0</td>\n",
       "      <td>9.0</td>\n",
       "      <td>10.0</td>\n",
       "      <td>f</td>\n",
       "      <td>moderate</td>\n",
       "      <td>f</td>\n",
       "      <td>f</td>\n",
       "      <td>2</td>\n",
       "      <td>85.0</td>\n",
       "      <td>1</td>\n",
       "      <td>2016</td>\n",
       "      <td>1</td>\n",
       "      <td>1.0</td>\n",
       "      <td>1.0</td>\n",
       "      <td>1.0</td>\n",
       "      <td>0.0</td>\n",
       "      <td>0.0</td>\n",
       "      <td>1.0</td>\n",
       "      <td>1.0</td>\n",
       "      <td>1.0</td>\n",
       "      <td>0.0</td>\n",
       "      <td>1.0</td>\n",
       "      <td>1.0</td>\n",
       "      <td>1.0</td>\n",
       "      <td>1.0</td>\n",
       "      <td>0.0</td>\n",
       "      <td>0.0</td>\n",
       "      <td>1.0</td>\n",
       "      <td>0.0</td>\n",
       "      <td>0.0</td>\n",
       "      <td>0.0</td>\n",
       "      <td>0.0</td>\n",
       "      <td>1.0</td>\n",
       "    </tr>\n",
       "    <tr>\n",
       "      <th>2</th>\n",
       "      <td>241032</td>\n",
       "      <td>f</td>\n",
       "      <td>within a few hours</td>\n",
       "      <td>f</td>\n",
       "      <td>3.0</td>\n",
       "      <td>t</td>\n",
       "      <td>t</td>\n",
       "      <td>Queen Anne</td>\n",
       "      <td>Apartment</td>\n",
       "      <td>Entire home/apt</td>\n",
       "      <td>4</td>\n",
       "      <td>1.0</td>\n",
       "      <td>1.0</td>\n",
       "      <td>1.0</td>\n",
       "      <td>Real Bed</td>\n",
       "      <td>2</td>\n",
       "      <td>1</td>\n",
       "      <td>365</td>\n",
       "      <td>207</td>\n",
       "      <td>95.0</td>\n",
       "      <td>10.0</td>\n",
       "      <td>10.0</td>\n",
       "      <td>10.0</td>\n",
       "      <td>10.0</td>\n",
       "      <td>9.0</td>\n",
       "      <td>10.0</td>\n",
       "      <td>f</td>\n",
       "      <td>moderate</td>\n",
       "      <td>f</td>\n",
       "      <td>f</td>\n",
       "      <td>2</td>\n",
       "      <td>NaN</td>\n",
       "      <td>1</td>\n",
       "      <td>2016</td>\n",
       "      <td>1</td>\n",
       "      <td>1.0</td>\n",
       "      <td>1.0</td>\n",
       "      <td>1.0</td>\n",
       "      <td>0.0</td>\n",
       "      <td>0.0</td>\n",
       "      <td>1.0</td>\n",
       "      <td>1.0</td>\n",
       "      <td>1.0</td>\n",
       "      <td>0.0</td>\n",
       "      <td>1.0</td>\n",
       "      <td>1.0</td>\n",
       "      <td>1.0</td>\n",
       "      <td>1.0</td>\n",
       "      <td>0.0</td>\n",
       "      <td>0.0</td>\n",
       "      <td>1.0</td>\n",
       "      <td>0.0</td>\n",
       "      <td>0.0</td>\n",
       "      <td>0.0</td>\n",
       "      <td>0.0</td>\n",
       "      <td>1.0</td>\n",
       "    </tr>\n",
       "    <tr>\n",
       "      <th>3</th>\n",
       "      <td>241032</td>\n",
       "      <td>f</td>\n",
       "      <td>within a few hours</td>\n",
       "      <td>f</td>\n",
       "      <td>3.0</td>\n",
       "      <td>t</td>\n",
       "      <td>t</td>\n",
       "      <td>Queen Anne</td>\n",
       "      <td>Apartment</td>\n",
       "      <td>Entire home/apt</td>\n",
       "      <td>4</td>\n",
       "      <td>1.0</td>\n",
       "      <td>1.0</td>\n",
       "      <td>1.0</td>\n",
       "      <td>Real Bed</td>\n",
       "      <td>2</td>\n",
       "      <td>1</td>\n",
       "      <td>365</td>\n",
       "      <td>207</td>\n",
       "      <td>95.0</td>\n",
       "      <td>10.0</td>\n",
       "      <td>10.0</td>\n",
       "      <td>10.0</td>\n",
       "      <td>10.0</td>\n",
       "      <td>9.0</td>\n",
       "      <td>10.0</td>\n",
       "      <td>f</td>\n",
       "      <td>moderate</td>\n",
       "      <td>f</td>\n",
       "      <td>f</td>\n",
       "      <td>2</td>\n",
       "      <td>NaN</td>\n",
       "      <td>1</td>\n",
       "      <td>2016</td>\n",
       "      <td>1</td>\n",
       "      <td>1.0</td>\n",
       "      <td>1.0</td>\n",
       "      <td>1.0</td>\n",
       "      <td>0.0</td>\n",
       "      <td>0.0</td>\n",
       "      <td>1.0</td>\n",
       "      <td>1.0</td>\n",
       "      <td>1.0</td>\n",
       "      <td>0.0</td>\n",
       "      <td>1.0</td>\n",
       "      <td>1.0</td>\n",
       "      <td>1.0</td>\n",
       "      <td>1.0</td>\n",
       "      <td>0.0</td>\n",
       "      <td>0.0</td>\n",
       "      <td>1.0</td>\n",
       "      <td>0.0</td>\n",
       "      <td>0.0</td>\n",
       "      <td>0.0</td>\n",
       "      <td>0.0</td>\n",
       "      <td>1.0</td>\n",
       "    </tr>\n",
       "    <tr>\n",
       "      <th>4</th>\n",
       "      <td>241032</td>\n",
       "      <td>f</td>\n",
       "      <td>within a few hours</td>\n",
       "      <td>f</td>\n",
       "      <td>3.0</td>\n",
       "      <td>t</td>\n",
       "      <td>t</td>\n",
       "      <td>Queen Anne</td>\n",
       "      <td>Apartment</td>\n",
       "      <td>Entire home/apt</td>\n",
       "      <td>4</td>\n",
       "      <td>1.0</td>\n",
       "      <td>1.0</td>\n",
       "      <td>1.0</td>\n",
       "      <td>Real Bed</td>\n",
       "      <td>2</td>\n",
       "      <td>1</td>\n",
       "      <td>365</td>\n",
       "      <td>207</td>\n",
       "      <td>95.0</td>\n",
       "      <td>10.0</td>\n",
       "      <td>10.0</td>\n",
       "      <td>10.0</td>\n",
       "      <td>10.0</td>\n",
       "      <td>9.0</td>\n",
       "      <td>10.0</td>\n",
       "      <td>f</td>\n",
       "      <td>moderate</td>\n",
       "      <td>f</td>\n",
       "      <td>f</td>\n",
       "      <td>2</td>\n",
       "      <td>NaN</td>\n",
       "      <td>1</td>\n",
       "      <td>2016</td>\n",
       "      <td>1</td>\n",
       "      <td>1.0</td>\n",
       "      <td>1.0</td>\n",
       "      <td>1.0</td>\n",
       "      <td>0.0</td>\n",
       "      <td>0.0</td>\n",
       "      <td>1.0</td>\n",
       "      <td>1.0</td>\n",
       "      <td>1.0</td>\n",
       "      <td>0.0</td>\n",
       "      <td>1.0</td>\n",
       "      <td>1.0</td>\n",
       "      <td>1.0</td>\n",
       "      <td>1.0</td>\n",
       "      <td>0.0</td>\n",
       "      <td>0.0</td>\n",
       "      <td>1.0</td>\n",
       "      <td>0.0</td>\n",
       "      <td>0.0</td>\n",
       "      <td>0.0</td>\n",
       "      <td>0.0</td>\n",
       "      <td>1.0</td>\n",
       "    </tr>\n",
       "  </tbody>\n",
       "</table>\n",
       "</div>"
      ],
      "text/plain": [
       "   listing_id available  host_response_time host_is_superhost  host_listings_count host_has_profile_pic host_identity_verified neighbourhood_group_cleansed property_type        room_type  accommodates  bathrooms  bedrooms  beds  bed_type  guests_included  minimum_nights  maximum_nights  number_of_reviews  review_scores_rating  review_scores_accuracy  review_scores_cleanliness  review_scores_checkin  review_scores_communication  review_scores_location  review_scores_value instant_bookable cancellation_policy require_guest_profile_picture require_guest_phone_verification  calculated_host_listings_count  price  month  year  host_response_rate_buckets  amenities_Wireless Internet  amenities_Heating  amenities_Kitchen  amenities_Smoke Detector  amenities_Essentials  amenities_Dryer  amenities_Washer  amenities_Internet  amenities_Shampoo  amenities_TV  host_verifications_email  host_verifications_ phone  host_verifications_ reviews  host_verifications_ facebook  host_verifications_ jumio  \\\n",
       "0      241032         t  within a few hours                 f                  3.0                    t                      t                   Queen Anne     Apartment  Entire home/apt             4        1.0       1.0   1.0  Real Bed                2               1             365                207                  95.0                    10.0                       10.0                   10.0                         10.0                     9.0                 10.0                f            moderate                             f                                f                               2   85.0      1  2016                           1                          1.0                1.0                1.0                       0.0                   0.0              1.0               1.0                 1.0                0.0           1.0                       1.0                        1.0                          1.0                           0.0                        0.0   \n",
       "1      241032         t  within a few hours                 f                  3.0                    t                      t                   Queen Anne     Apartment  Entire home/apt             4        1.0       1.0   1.0  Real Bed                2               1             365                207                  95.0                    10.0                       10.0                   10.0                         10.0                     9.0                 10.0                f            moderate                             f                                f                               2   85.0      1  2016                           1                          1.0                1.0                1.0                       0.0                   0.0              1.0               1.0                 1.0                0.0           1.0                       1.0                        1.0                          1.0                           0.0                        0.0   \n",
       "2      241032         f  within a few hours                 f                  3.0                    t                      t                   Queen Anne     Apartment  Entire home/apt             4        1.0       1.0   1.0  Real Bed                2               1             365                207                  95.0                    10.0                       10.0                   10.0                         10.0                     9.0                 10.0                f            moderate                             f                                f                               2    NaN      1  2016                           1                          1.0                1.0                1.0                       0.0                   0.0              1.0               1.0                 1.0                0.0           1.0                       1.0                        1.0                          1.0                           0.0                        0.0   \n",
       "3      241032         f  within a few hours                 f                  3.0                    t                      t                   Queen Anne     Apartment  Entire home/apt             4        1.0       1.0   1.0  Real Bed                2               1             365                207                  95.0                    10.0                       10.0                   10.0                         10.0                     9.0                 10.0                f            moderate                             f                                f                               2    NaN      1  2016                           1                          1.0                1.0                1.0                       0.0                   0.0              1.0               1.0                 1.0                0.0           1.0                       1.0                        1.0                          1.0                           0.0                        0.0   \n",
       "4      241032         f  within a few hours                 f                  3.0                    t                      t                   Queen Anne     Apartment  Entire home/apt             4        1.0       1.0   1.0  Real Bed                2               1             365                207                  95.0                    10.0                       10.0                   10.0                         10.0                     9.0                 10.0                f            moderate                             f                                f                               2    NaN      1  2016                           1                          1.0                1.0                1.0                       0.0                   0.0              1.0               1.0                 1.0                0.0           1.0                       1.0                        1.0                          1.0                           0.0                        0.0   \n",
       "\n",
       "   host_verifications_ kba  host_verifications_ linkedin  host_verifications_ google  host_verifications_ manual_offline  host_verifications_phone  extra_people_fee  \n",
       "0                      1.0                           0.0                         0.0                                 0.0                       0.0               1.0  \n",
       "1                      1.0                           0.0                         0.0                                 0.0                       0.0               1.0  \n",
       "2                      1.0                           0.0                         0.0                                 0.0                       0.0               1.0  \n",
       "3                      1.0                           0.0                         0.0                                 0.0                       0.0               1.0  \n",
       "4                      1.0                           0.0                         0.0                                 0.0                       0.0               1.0  "
      ]
     },
     "execution_count": 45,
     "metadata": {},
     "output_type": "execute_result"
    }
   ],
   "source": [
    "df.head()"
   ]
  },
  {
   "cell_type": "markdown",
   "metadata": {},
   "source": [
    "## **Insights and Analysis over final dataset**"
   ]
  },
  {
   "cell_type": "markdown",
   "metadata": {},
   "source": [
    "##### ***What is the `minimum`, `maximum` and `average price` of listing(property) across the city?***"
   ]
  },
  {
   "cell_type": "code",
   "execution_count": 46,
   "metadata": {},
   "outputs": [
    {
     "name": "stdout",
     "output_type": "stream",
     "text": [
      "Minimum price per listing is $10.0\n",
      "Maximum price per listing is $1650.0\n",
      "Average price per listing is $137.94485855103355\n"
     ]
    }
   ],
   "source": [
    "#find minimum, maximum and average price for listing\n",
    "min_price = df['price'].min()\n",
    "max_price = df['price'].max()\n",
    "mean_price = df['price'].mean()\n",
    "\n",
    "print(f'Minimum price per listing is ${min_price}')\n",
    "print(f'Maximum price per listing is ${max_price}')\n",
    "print(f'Average price per listing is ${mean_price}')"
   ]
  },
  {
   "cell_type": "code",
   "execution_count": 47,
   "metadata": {},
   "outputs": [
    {
     "data": {
      "text/plain": [
       "85.0"
      ]
     },
     "execution_count": 47,
     "metadata": {},
     "output_type": "execute_result"
    }
   ],
   "source": [
    "df[df['listing_id'] == 241032]['price'].mean()"
   ]
  },
  {
   "cell_type": "markdown",
   "metadata": {},
   "source": [
    "##### ***What is the `average price` for each listing given in dataset?***"
   ]
  },
  {
   "cell_type": "code",
   "execution_count": 37,
   "metadata": {},
   "outputs": [],
   "source": [
    "#get the average price for each listing\n",
    "mean_price_for_listing = df.groupby('listing_id').mean()['price']"
   ]
  },
  {
   "cell_type": "code",
   "execution_count": 39,
   "metadata": {},
   "outputs": [
    {
     "data": {
      "image/png": "[encoded data removed]",
      "text/plain": [
       "<Figure size 1080x504 with 1 Axes>"
      ]
     },
     "metadata": {
      "needs_background": "light"
     },
     "output_type": "display_data"
    }
   ],
   "source": [
    "plt.figure(figsize=(15,7))\n",
    "plt.hist(mean_price_for_listing, bins=20)\n",
    "plt.ylabel('Number of listings')\n",
    "plt.xlabel('Price[$]')\n",
    "plt.title('Number of listings based on price')\n",
    "plt.show()"
   ]
  },
  {
   "cell_type": "markdown",
   "metadata": {},
   "source": [
    "> From the above histogram we can conclude that, the `majority of listings are concentrated around $50-150`"
   ]
  },
  {
   "cell_type": "markdown",
   "metadata": {},
   "source": [
    "##### ***What are the average number of reviews posted for each listing?***"
   ]
  },
  {
   "cell_type": "code",
   "execution_count": 50,
   "metadata": {},
   "outputs": [],
   "source": [
    "#get the average number of reviews per listing\n",
    "avg_num_reviews = df.groupby('listing_id').mean()['number_of_reviews']"
   ]
  },
  {
   "cell_type": "code",
   "execution_count": 51,
   "metadata": {},
   "outputs": [
    {
     "data": {
      "image/png": "[encoded data removed]",
      "text/plain": [
       "<Figure size 1080x504 with 1 Axes>"
      ]
     },
     "metadata": {
      "needs_background": "light"
     },
     "output_type": "display_data"
    }
   ],
   "source": [
    "plt.figure(figsize=(15,7))\n",
    "plt.hist(mean_price_for_listing, bins=30)\n",
    "plt.xticks(np.arange(0, 1700, step=100))\n",
    "plt.ylabel('Number of listings')\n",
    "plt.xlabel('Number of Reviews')\n",
    "plt.title('Number of listings based on reviews')\n",
    "plt.show()"
   ]
  },
  {
   "cell_type": "markdown",
   "metadata": {},
   "source": [
    "> The majority of listings are ***`concentrated around 10-180 reviews`***"
   ]
  },
  {
   "cell_type": "markdown",
   "metadata": {},
   "source": [
    "##### ***How many listings are registered `per month`?***"
   ]
  },
  {
   "cell_type": "code",
   "execution_count": 52,
   "metadata": {},
   "outputs": [
    {
     "data": {
      "image/png": "[encoded data removed]",
      "text/plain": [
       "<Figure size 1080x360 with 1 Axes>"
      ]
     },
     "metadata": {
      "needs_background": "light"
     },
     "output_type": "display_data"
    }
   ],
   "source": [
    "#get number of registered listings, irrespective of available or unavailable for each month\n",
    "grouped_month = df.groupby(['month'])\n",
    "num__listing_per_month = [len(grouped_month.get_group(i)['listing_id']) for i in range(1,13)]\n",
    "\n",
    "plt.figure(figsize=(15,5))\n",
    "plt.bar(np.arange(1,13,step=1), num__listing_per_month)   #color=np.random.rand(12,3)\n",
    "plt.xticks(np.arange(1,13,step=1))\n",
    "plt.title('Number of listings registered each month')\n",
    "plt.xlabel('Month')\n",
    "plt.ylabel('Number of listings')\n",
    "plt.show()"
   ]
  },
  {
   "cell_type": "markdown",
   "metadata": {},
   "source": [
    "> We can see the trend of number of listings that are registered every month. It can be seen that the number of listings are low in *february, march, april, august, and novenmber* as these months see `surge in number of visitors`."
   ]
  },
  {
   "cell_type": "markdown",
   "metadata": {},
   "source": [
    "##### ***How many listings were `available` and `not available` for each month?***"
   ]
  },
  {
   "cell_type": "code",
   "execution_count": 53,
   "metadata": {},
   "outputs": [],
   "source": [
    "#get number of available and not available listings per month \n",
    "num_listing_per_month = df.groupby(['month','available'])['listing_id'].unique()"
   ]
  },
  {
   "cell_type": "code",
   "execution_count": 54,
   "metadata": {},
   "outputs": [],
   "source": [
    "num_listings_available_per_month = [len(num_listing_per_month[i]['t']) for i in range(1,13)]\n",
    "num_listings_not_available_per_month = [len(num_listing_per_month[i]['f']) for i in range(1,13)]"
   ]
  },
  {
   "cell_type": "code",
   "execution_count": 55,
   "metadata": {},
   "outputs": [
    {
     "data": {
      "text/plain": [
       "([3623, 2895, 2950, 3002, 2705, 2720, 2503, 2561, 2649, 2694, 2771, 2866],\n",
       " [3007, 1933, 1573, 1652, 1525, 1520, 1665, 1523, 1365, 1216, 1141, 1060])"
      ]
     },
     "execution_count": 55,
     "metadata": {},
     "output_type": "execute_result"
    }
   ],
   "source": [
    "num_listings_available_per_month, num_listings_not_available_per_month"
   ]
  },
  {
   "cell_type": "code",
   "execution_count": 57,
   "metadata": {},
   "outputs": [
    {
     "data": {
      "image/png": "[encoded data removed]",
      "text/plain": [
       "<Figure size 720x360 with 1 Axes>"
      ]
     },
     "metadata": {
      "needs_background": "light"
     },
     "output_type": "display_data"
    }
   ],
   "source": [
    "plt.figure(figsize=(10,5))\n",
    "plt.plot(num_listings_available_per_month)\n",
    "plt.xticks(np.arange(0, 13, step=1))\n",
    "plt.ylabel('Number of listings available')\n",
    "plt.xlabel('Month')\n",
    "plt.title('Number of available listings per month')\n",
    "plt.show()"
   ]
  },
  {
   "cell_type": "markdown",
   "metadata": {},
   "source": [
    "> This shows that the number of available properties are lowest in summer, which means that the summer is the busiest time and most of the properties are occupied!"
   ]
  },
  {
   "cell_type": "code",
   "execution_count": 58,
   "metadata": {},
   "outputs": [
    {
     "data": {
      "image/png": "[encoded data removed]",
      "text/plain": [
       "<Figure size 720x360 with 1 Axes>"
      ]
     },
     "metadata": {
      "needs_background": "light"
     },
     "output_type": "display_data"
    }
   ],
   "source": [
    "plt.figure(figsize=(10,5))\n",
    "plt.plot(num_listings_not_available_per_month)\n",
    "plt.xticks(np.arange(1, 13, step=1))\n",
    "plt.ylabel('Number of listings not available')\n",
    "plt.xlabel('Month')\n",
    "plt.title('Number of unavailable listings per month')\n",
    "plt.show()"
   ]
  },
  {
   "cell_type": "markdown",
   "metadata": {},
   "source": [
    "> This again shows that, summer and year end are the busiest time of the year as number of unavailable listings are low in this time"
   ]
  },
  {
   "cell_type": "markdown",
   "metadata": {},
   "source": [
    "##### ***What is the `average price` per month?***"
   ]
  },
  {
   "cell_type": "code",
   "execution_count": 59,
   "metadata": {},
   "outputs": [
    {
     "data": {
      "image/png": "[encoded data removed]",
      "text/plain": [
       "<Figure size 720x360 with 1 Axes>"
      ]
     },
     "metadata": {
      "needs_background": "light"
     },
     "output_type": "display_data"
    }
   ],
   "source": [
    "#find average price per month\n",
    "average_price_by_month = df.groupby(['month'])['price'].mean()\n",
    "\n",
    "#plot\n",
    "plt.figure(figsize=(10,5))\n",
    "plt.plot(average_price_by_month)\n",
    "plt.xticks(np.arange(1, 13, step=1))\n",
    "plt.ylabel('Average price, $')\n",
    "plt.xlabel('Month')\n",
    "plt.title('Average price')\n",
    "plt.show()"
   ]
  },
  {
   "cell_type": "markdown",
   "metadata": {},
   "source": [
    "> According to the diagram above listing prices **raise significantly in summer**, probably, because of the fact that there are ***less listings available for reservation***. There is also a ***raise in December***. This tells us that ***`summer and winter holidays`*** should be the ***`busiest times`*** to visit Seattle."
   ]
  },
  {
   "cell_type": "markdown",
   "metadata": {},
   "source": [
    "##### ***`Prices` Depending on `Neighbourhood`***\n",
    "Neighbourhood might have great influence on the listing price. Let's take a look at listing prices depending on neighbourhood."
   ]
  },
  {
   "cell_type": "code",
   "execution_count": 60,
   "metadata": {},
   "outputs": [
    {
     "data": {
      "text/plain": [
       "Other neighborhoods    289810\n",
       "Capitol Hill           206955\n",
       "Downtown               193450\n",
       "Central Area           134685\n",
       "Queen Anne             107675\n",
       "Ballard                 83950\n",
       "West Seattle            74095\n",
       "Rainier Valley          58035\n",
       "University District     44530\n",
       "Beacon Hill             43070\n",
       "Cascade                 32485\n",
       "Northgate               29200\n",
       "Delridge                28835\n",
       "Lake City               24455\n",
       "Magnolia                22265\n",
       "Seward Park             16060\n",
       "Interbay                 4015\n",
       "Name: neighbourhood_group_cleansed, dtype: int64"
      ]
     },
     "execution_count": 60,
     "metadata": {},
     "output_type": "execute_result"
    }
   ],
   "source": [
    "df['neighbourhood_group_cleansed'].value_counts()"
   ]
  },
  {
   "cell_type": "code",
   "execution_count": 61,
   "metadata": {},
   "outputs": [
    {
     "data": {
      "image/png": "[encoded data removed]",
      "text/plain": [
       "<Figure size 1440x720 with 1 Axes>"
      ]
     },
     "metadata": {
      "needs_background": "light"
     },
     "output_type": "display_data"
    }
   ],
   "source": [
    "#get list of neighbourhoods\n",
    "neighbourhoods = df['neighbourhood_group_cleansed'].unique()\n",
    "\n",
    "#get prices by month and neighbourhood\n",
    "price_by_month_neighbourhood = df.groupby(['month','neighbourhood_group_cleansed']).mean().reset_index()\n",
    "\n",
    "#plot prices for each neighbourhood\n",
    "fig = plt.figure(figsize=(20,10))\n",
    "ax = plt.subplot(111)\n",
    "\n",
    "for neighbourhood in neighbourhoods:\n",
    "    ax.plot(price_by_month_neighbourhood[price_by_month_neighbourhood['neighbourhood_group_cleansed'] == neighbourhood]['month'],\n",
    "             price_by_month_neighbourhood[price_by_month_neighbourhood['neighbourhood_group_cleansed'] == neighbourhood]['price'],\n",
    "             label = neighbourhood)\n",
    "    \n",
    "box = ax.get_position()\n",
    "ax.set_position([box.x0, box.y0, box.width * 0.8, box.height])\n",
    "ax.legend(loc='center left', bbox_to_anchor=(1, 0.5))\n",
    "\n",
    "plt.ylabel('Average price[$]')\n",
    "plt.xlabel('Month')\n",
    "plt.xticks(np.arange(1, 13, step=1))\n",
    "plt.title('Average price for neighbourhood, $')\n",
    "plt.show()"
   ]
  },
  {
   "cell_type": "markdown",
   "metadata": {},
   "source": [
    "> We can see that ***prices differ depending on the location*** (neighbourhood). The **highest average prices** are in ***`Downtown`***. But for each neighbourhood prices tend to raise in summer as we saw this earlier too."
   ]
  },
  {
   "cell_type": "markdown",
   "metadata": {},
   "source": [
    "##### ***How many listings are present for each accommodates type?***"
   ]
  },
  {
   "cell_type": "code",
   "execution_count": 62,
   "metadata": {},
   "outputs": [
    {
     "data": {
      "image/png": "[encoded data removed]",
      "text/plain": [
       "<Figure size 1080x360 with 1 Axes>"
      ]
     },
     "metadata": {
      "needs_background": "light"
     },
     "output_type": "display_data"
    }
   ],
   "source": [
    "#get total number of listings for each accommodates type(number of accommodations)\n",
    "num_listing_accommodates = [len(df.groupby(['accommodates']).get_group(i)['listing_id']) for i in sorted(df['accommodates'].unique())]\n",
    "plt.figure(figsize=(15,5))\n",
    "plt.bar(sorted(df['accommodates'].unique()), num_listing_accommodates)   #color=np.random.rand(12,3)\n",
    "plt.xticks(range(1,sorted(df['accommodates'].unique())[-1]+1))\n",
    "plt.title('Number of listings for each accommodates type')\n",
    "plt.xlabel('Accommodates')\n",
    "plt.ylabel('Number of listings')\n",
    "plt.show()"
   ]
  },
  {
   "cell_type": "markdown",
   "metadata": {},
   "source": [
    "> We can see that there are **maximum number of listings for `2 occommodates`**."
   ]
  },
  {
   "cell_type": "markdown",
   "metadata": {},
   "source": [
    "##### ***What is the average price for each accommodates type***?"
   ]
  },
  {
   "cell_type": "code",
   "execution_count": 63,
   "metadata": {},
   "outputs": [],
   "source": [
    "#now let's see how is the price changing according to the acoommodation type\n",
    "grouped_accommodate_mean_price = df.groupby(['accommodates'])['price'].mean()\n",
    "average_price_per_accommodate = [grouped_accommodate_mean_price[i] for i in sorted(df['accommodates'].unique())]"
   ]
  },
  {
   "cell_type": "code",
   "execution_count": 64,
   "metadata": {},
   "outputs": [
    {
     "data": {
      "image/png": "[encoded data removed]",
      "text/plain": [
       "<Figure size 1080x360 with 1 Axes>"
      ]
     },
     "metadata": {
      "needs_background": "light"
     },
     "output_type": "display_data"
    }
   ],
   "source": [
    "plt.figure(figsize=(15,5))\n",
    "plt.bar(sorted(df['accommodates'].unique()), average_price_per_accommodate)   #color=np.random.rand(12,3)\n",
    "plt.xticks(range(1,sorted(df['accommodates'].unique())[-1]+1))\n",
    "plt.title('Average price for each accommodates type')\n",
    "plt.xlabel('Accommodates')\n",
    "plt.ylabel('Average Price')\n",
    "plt.show()"
   ]
  },
  {
   "cell_type": "markdown",
   "metadata": {},
   "source": [
    "> Now here we can see that as the ***number of accommodates increase the price also raise***. This is quite evident that greater the number of accommodates the price of property should be greater. And this also hints in being a ***`great influential feature`*** for ***predicting price***."
   ]
  },
  {
   "cell_type": "markdown",
   "metadata": {},
   "source": [
    "#### ***Occupancy rate***\n",
    "##### ***What is the `occupancy rate over the time` of year?***"
   ]
  },
  {
   "cell_type": "code",
   "execution_count": 65,
   "metadata": {},
   "outputs": [],
   "source": [
    "# convert 'date' column to pandas timestamps\n",
    "calendar_seattle['date'] = pd.to_datetime(calendar_seattle['date'])"
   ]
  },
  {
   "cell_type": "code",
   "execution_count": 68,
   "metadata": {},
   "outputs": [],
   "source": [
    "#occupancy rate over time. Number of listings booked per day\n",
    "grouped_date = calendar_seattle.groupby(['date'])\n",
    "occupancy_rate = []\n",
    "for x in calendar_seattle['date'].unique():\n",
    "    calendar_seattle_tmp = grouped_date.get_group(pd.Timestamp(x))\n",
    "    occupancy_rate.append(len(calendar_seattle_tmp[calendar_seattle_tmp['available'] == 'f']) / len(calendar_seattle_tmp))"
   ]
  },
  {
   "cell_type": "code",
   "execution_count": 69,
   "metadata": {},
   "outputs": [
    {
     "data": {
      "image/png": "[encoded data removed]",
      "text/plain": [
       "<Figure size 720x576 with 1 Axes>"
      ]
     },
     "metadata": {
      "needs_background": "light"
     },
     "output_type": "display_data"
    }
   ],
   "source": [
    "#occupancy rate over time\n",
    "plt.figure(figsize=(10,8))\n",
    "plt.plot_date(calendar_seattle['date'].unique(), occupancy_rate, linestyle='solid', marker='None');\n",
    "plt.ylim(0,1)\n",
    "plt.title('Occupancy rate over time')\n",
    "plt.xlabel('Time')\n",
    "plt.ylabel('Occupancy Rate')\n",
    "plt.show()"
   ]
  },
  {
   "cell_type": "markdown",
   "metadata": {},
   "source": [
    "> We can again see that the ***occupancy rate*** is ***`high in summer and winter`*** (during New Year). This once again proves that summer and winter are the ***`busiest times`*** for **`vacations in seattle`**."
   ]
  },
  {
   "cell_type": "markdown",
   "metadata": {},
   "source": [
    "### Overview of `reviews.csv`"
   ]
  },
  {
   "cell_type": "markdown",
   "metadata": {},
   "source": [
    "#### Count ***`number of reviews posted for the listings in past years`***, and what out the ***`trend of number of reviews`*** and whether this could be a factor that affects price.\n",
    "##### ***What are the number of reviews added over time in `reviews.csv`?***"
   ]
  },
  {
   "cell_type": "code",
   "execution_count": 70,
   "metadata": {},
   "outputs": [],
   "source": [
    "# read dataframe\n",
    "reviews_df = pd.read_csv('reviews_seattle.csv')\n",
    "reviews_df['date'] = pd.to_datetime(reviews_df['date'])"
   ]
  },
  {
   "cell_type": "code",
   "execution_count": 71,
   "metadata": {},
   "outputs": [],
   "source": [
    "#Number of reviews over the past few years\n",
    "grouped_reviews_date = reviews_df.groupby(['date'])\n",
    "num_reviews = [len(grouped_reviews_date.get_group(pd.Timestamp(x))) for x in reviews_df['date'].unique()]"
   ]
  },
  {
   "cell_type": "code",
   "execution_count": 72,
   "metadata": {},
   "outputs": [
    {
     "data": {
      "image/png": "[encoded data removed]",
      "text/plain": [
       "<Figure size 1080x720 with 1 Axes>"
      ]
     },
     "metadata": {
      "needs_background": "light"
     },
     "output_type": "display_data"
    }
   ],
   "source": [
    "plt.figure(figsize=(15,10))\n",
    "plt.bar(list(reviews_df['date'].unique()), num_reviews, color=np.random.rand(len(list(reviews_df['date'].unique())),3));\n",
    "plt.ylim(0,400)\n",
    "plt.title('Number of reviews over the past few years')\n",
    "plt.xlabel('Time')\n",
    "plt.ylabel('Number of Reviews')\n",
    "plt.show()"
   ]
  },
  {
   "cell_type": "markdown",
   "metadata": {},
   "source": [
    "> This can be easily seen that the number of reviews have been ***`exponentially increased`*** from 2013 and are the highest in 2016."
   ]
  }
 ],
 "metadata": {
  "kernelspec": {
   "display_name": "Python 3 (ipykernel)",
   "language": "python",
   "name": "python3"
  },
  "language_info": {
   "codemirror_mode": {
    "name": "ipython",
    "version": 3
   },
   "file_extension": ".py",
   "mimetype": "text/x-python",
   "name": "python",
   "nbconvert_exporter": "python",
   "pygments_lexer": "ipython3",
   "version": "3.9.12"
  }
 },
 "nbformat": 4,
 "nbformat_minor": 4
}
